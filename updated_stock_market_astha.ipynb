{
  "nbformat": 4,
  "nbformat_minor": 0,
  "metadata": {
    "colab": {
      "name": "updated_stock_market_astha.ipynb",
      "provenance": [],
      "collapsed_sections": [],
      "machine_shape": "hm"
    },
    "kernelspec": {
      "name": "python3",
      "display_name": "Python 3"
    }
  },
  "cells": [
    {
      "cell_type": "code",
      "metadata": {
        "id": "9pC4UoHqSRFX",
        "colab_type": "code",
        "colab": {
          "base_uri": "https://localhost:8080/",
          "height": 448
        },
        "outputId": "110212c4-a935-4181-9e25-54ebeead8f2b"
      },
      "source": [
        "!wget https://www.dropbox.com/s/yym27er0dpn6ggo/nse_stocks_data.zip"
      ],
      "execution_count": null,
      "outputs": [
        {
          "output_type": "stream",
          "text": [
            "--2020-06-01 17:03:54--  https://www.dropbox.com/s/yym27er0dpn6ggo/nse_stocks_data.zip\n",
            "Resolving www.dropbox.com (www.dropbox.com)... 162.125.80.1, 2620:100:6030:1::a27d:5001\n",
            "Connecting to www.dropbox.com (www.dropbox.com)|162.125.80.1|:443... connected.\n",
            "HTTP request sent, awaiting response... 301 Moved Permanently\n",
            "Location: /s/raw/yym27er0dpn6ggo/nse_stocks_data.zip [following]\n",
            "--2020-06-01 17:03:55--  https://www.dropbox.com/s/raw/yym27er0dpn6ggo/nse_stocks_data.zip\n",
            "Reusing existing connection to www.dropbox.com:443.\n",
            "HTTP request sent, awaiting response... 302 Found\n",
            "Location: https://ucb01cb42ec3707fe76b04fbeaac.dl.dropboxusercontent.com/cd/0/inline/A43kUnx1xf_0Y3LtR3_ZVlov7D6eu4XgHA1jqcP7sgmw63T3NgGreHuJua75YqY0Own1fqQrK8cxoLBv4hwqEBGI0xckE7abGelOx5Eo6-syrNJN-Z0BE0I7rLZDq0ojV3c/file# [following]\n",
            "--2020-06-01 17:03:55--  https://ucb01cb42ec3707fe76b04fbeaac.dl.dropboxusercontent.com/cd/0/inline/A43kUnx1xf_0Y3LtR3_ZVlov7D6eu4XgHA1jqcP7sgmw63T3NgGreHuJua75YqY0Own1fqQrK8cxoLBv4hwqEBGI0xckE7abGelOx5Eo6-syrNJN-Z0BE0I7rLZDq0ojV3c/file\n",
            "Resolving ucb01cb42ec3707fe76b04fbeaac.dl.dropboxusercontent.com (ucb01cb42ec3707fe76b04fbeaac.dl.dropboxusercontent.com)... 162.125.80.6, 2620:100:6030:6::a27d:5006\n",
            "Connecting to ucb01cb42ec3707fe76b04fbeaac.dl.dropboxusercontent.com (ucb01cb42ec3707fe76b04fbeaac.dl.dropboxusercontent.com)|162.125.80.6|:443... connected.\n",
            "HTTP request sent, awaiting response... 302 FOUND\n",
            "Location: /cd/0/inline2/A409WM0l6kG2kIiSaZAs5Yh07KFviqACxpUNIKzUqr7qyQ7WyW5--NNQe1YDIvOFBkQZW85ZoSUeV7_5NneNYF6n3sRq-T7EM_4bh49zoeia19jMaGcpoDnf_qG5Dxz-1IhrzdZqQYZKHR6N_OMD_MA68MVkR2Chx6R0zJ0VR68CwUX80Vk_KdApi_7tpXl5DCFOYf1-kh5JcODUVOua_QRmrCRMDtSEwWJI9SDSvEkIBpYVbNO8dZBrq2zyCHKxyhjyqmUELTnrdZeoqHqy2WW9z2oEH9BxR9cRGBYonRXo4l6-Qtp4rNJA8XxmayHjLaKN_QNnz128h730vcG7lUWaJ0vzi-cqDV6Ag0NiOUdvzw/file [following]\n",
            "--2020-06-01 17:03:56--  https://ucb01cb42ec3707fe76b04fbeaac.dl.dropboxusercontent.com/cd/0/inline2/A409WM0l6kG2kIiSaZAs5Yh07KFviqACxpUNIKzUqr7qyQ7WyW5--NNQe1YDIvOFBkQZW85ZoSUeV7_5NneNYF6n3sRq-T7EM_4bh49zoeia19jMaGcpoDnf_qG5Dxz-1IhrzdZqQYZKHR6N_OMD_MA68MVkR2Chx6R0zJ0VR68CwUX80Vk_KdApi_7tpXl5DCFOYf1-kh5JcODUVOua_QRmrCRMDtSEwWJI9SDSvEkIBpYVbNO8dZBrq2zyCHKxyhjyqmUELTnrdZeoqHqy2WW9z2oEH9BxR9cRGBYonRXo4l6-Qtp4rNJA8XxmayHjLaKN_QNnz128h730vcG7lUWaJ0vzi-cqDV6Ag0NiOUdvzw/file\n",
            "Reusing existing connection to ucb01cb42ec3707fe76b04fbeaac.dl.dropboxusercontent.com:443.\n",
            "HTTP request sent, awaiting response... 200 OK\n",
            "Length: 31361615 (30M) [application/zip]\n",
            "Saving to: ‘nse_stocks_data.zip.1’\n",
            "\n",
            "nse_stocks_data.zip 100%[===================>]  29.91M  35.6MB/s    in 0.8s    \n",
            "\n",
            "2020-06-01 17:03:58 (35.6 MB/s) - ‘nse_stocks_data.zip.1’ saved [31361615/31361615]\n",
            "\n"
          ],
          "name": "stdout"
        }
      ]
    },
    {
      "cell_type": "code",
      "metadata": {
        "id": "92h9FBuLoauw",
        "colab_type": "code",
        "colab": {
          "base_uri": "https://localhost:8080/",
          "height": 103
        },
        "outputId": "eb199aa4-ac0a-4523-8b94-3684c0df6de0"
      },
      "source": [
        "!sudo apt-get install unzip"
      ],
      "execution_count": null,
      "outputs": [
        {
          "output_type": "stream",
          "text": [
            "Reading package lists... Done\n",
            "Building dependency tree       \n",
            "Reading state information... Done\n",
            "unzip is already the newest version (6.0-21ubuntu1).\n",
            "0 upgraded, 0 newly installed, 0 to remove and 32 not upgraded.\n"
          ],
          "name": "stdout"
        }
      ]
    },
    {
      "cell_type": "code",
      "metadata": {
        "id": "lbfG4ANzpIPh",
        "colab_type": "code",
        "colab": {
          "base_uri": "https://localhost:8080/",
          "height": 68
        },
        "outputId": "cab6e3d0-aba3-48a6-8981-a9ab9370d447"
      },
      "source": [
        "!unzip nse_stocks_data.zip"
      ],
      "execution_count": null,
      "outputs": [
        {
          "output_type": "stream",
          "text": [
            "Archive:  nse_stocks_data.zip\n",
            "replace FINAL_FROM_DF.csv? [y]es, [n]o, [A]ll, [N]one, [r]ename: y\n",
            "  inflating: FINAL_FROM_DF.csv       \n"
          ],
          "name": "stdout"
        }
      ]
    },
    {
      "cell_type": "code",
      "metadata": {
        "id": "l1W4RaW6oKjp",
        "colab_type": "code",
        "colab": {}
      },
      "source": [
        "import numpy as np \n",
        "import pandas as pd "
      ],
      "execution_count": null,
      "outputs": []
    },
    {
      "cell_type": "code",
      "metadata": {
        "id": "H8MhnFi-oRB-",
        "colab_type": "code",
        "colab": {}
      },
      "source": [
        "df = pd.read_csv(\"/content/FINAL_FROM_DF.csv\")"
      ],
      "execution_count": null,
      "outputs": []
    },
    {
      "cell_type": "code",
      "metadata": {
        "id": "zin7MGYmoqz7",
        "colab_type": "code",
        "colab": {
          "base_uri": "https://localhost:8080/",
          "height": 154
        },
        "outputId": "ca09fb28-b362-479f-e4dc-7b75077f2ccc"
      },
      "source": [
        "print(df.head())"
      ],
      "execution_count": null,
      "outputs": [
        {
          "output_type": "stream",
          "text": [
            "       SYMBOL SERIES      OPEN  ...   TIMESTAMP  TOTALTRADES          ISIN\n",
            "0   20MICRONS     EQ     37.80  ...  2017-06-28          202  INE144J01027\n",
            "1  3IINFOTECH     EQ      4.10  ...  2017-06-28         7353  INE748C01020\n",
            "2     3MINDIA     EQ  13425.15  ...  2017-06-28          748  INE470A01017\n",
            "3     63MOONS     EQ     61.00  ...  2017-06-28          437  INE111B01023\n",
            "4     8KMILES     EQ    546.10  ...  2017-06-28         1866  INE650K01021\n",
            "\n",
            "[5 rows x 13 columns]\n"
          ],
          "name": "stdout"
        }
      ]
    },
    {
      "cell_type": "code",
      "metadata": {
        "id": "ZkVHV_KTouJp",
        "colab_type": "code",
        "colab": {
          "base_uri": "https://localhost:8080/",
          "height": 257
        },
        "outputId": "495861cd-888b-4e02-d6a8-489cbe7cf9f9"
      },
      "source": [
        "#data type of each column\n",
        "print(df.dtypes)"
      ],
      "execution_count": null,
      "outputs": [
        {
          "output_type": "stream",
          "text": [
            "SYMBOL          object\n",
            "SERIES          object\n",
            "OPEN           float64\n",
            "HIGH           float64\n",
            "LOW            float64\n",
            "CLOSE          float64\n",
            "LAST           float64\n",
            "PREVCLOSE      float64\n",
            "TOTTRDQTY        int64\n",
            "TOTTRDVAL      float64\n",
            "TIMESTAMP       object\n",
            "TOTALTRADES      int64\n",
            "ISIN            object\n",
            "dtype: object\n"
          ],
          "name": "stdout"
        }
      ]
    },
    {
      "cell_type": "code",
      "metadata": {
        "id": "o6WwvE0d3n8P",
        "colab_type": "code",
        "colab": {
          "base_uri": "https://localhost:8080/",
          "height": 360
        },
        "outputId": "1c6a7b12-ba57-48b6-cee0-f61d231bf8a0"
      },
      "source": [
        "df.info()"
      ],
      "execution_count": null,
      "outputs": [
        {
          "output_type": "stream",
          "text": [
            "<class 'pandas.core.frame.DataFrame'>\n",
            "RangeIndex: 846404 entries, 0 to 846403\n",
            "Data columns (total 13 columns):\n",
            " #   Column       Non-Null Count   Dtype  \n",
            "---  ------       --------------   -----  \n",
            " 0   SYMBOL       846404 non-null  object \n",
            " 1   SERIES       843947 non-null  object \n",
            " 2   OPEN         846404 non-null  float64\n",
            " 3   HIGH         846404 non-null  float64\n",
            " 4   LOW          846404 non-null  float64\n",
            " 5   CLOSE        846404 non-null  float64\n",
            " 6   LAST         846404 non-null  float64\n",
            " 7   PREVCLOSE    846404 non-null  float64\n",
            " 8   TOTTRDQTY    846404 non-null  int64  \n",
            " 9   TOTTRDVAL    846404 non-null  float64\n",
            " 10  TIMESTAMP    846404 non-null  object \n",
            " 11  TOTALTRADES  846404 non-null  int64  \n",
            " 12  ISIN         846404 non-null  object \n",
            "dtypes: float64(7), int64(2), object(4)\n",
            "memory usage: 83.9+ MB\n"
          ],
          "name": "stdout"
        }
      ]
    },
    {
      "cell_type": "markdown",
      "metadata": {
        "id": "0sn1RMJro0HA",
        "colab_type": "text"
      },
      "source": [
        "SYMBOL, SERIES, ISIN are values used for identifying the stock. We will remove it from the dataframe.\n",
        "TIMESTAMP will be changed to four columns as YYYY MM DD because date is an important component here.\n",
        "\n"
      ]
    },
    {
      "cell_type": "code",
      "metadata": {
        "id": "vmKSi_FDo13x",
        "colab_type": "code",
        "colab": {
          "base_uri": "https://localhost:8080/",
          "height": 206
        },
        "outputId": "2989b572-0442-4e57-d134-ea11f57b3637"
      },
      "source": [
        "df = df.drop('SYMBOL', 1)\n",
        "df = df.drop('SERIES', 1)\n",
        "df = df.drop('ISIN', 1)\n",
        "#1 is for columns, 0 is for rows\n",
        "\n",
        "print(df.dtypes)"
      ],
      "execution_count": null,
      "outputs": [
        {
          "output_type": "stream",
          "text": [
            "OPEN           float64\n",
            "HIGH           float64\n",
            "LOW            float64\n",
            "CLOSE          float64\n",
            "LAST           float64\n",
            "PREVCLOSE      float64\n",
            "TOTTRDQTY        int64\n",
            "TOTTRDVAL      float64\n",
            "TIMESTAMP       object\n",
            "TOTALTRADES      int64\n",
            "dtype: object\n"
          ],
          "name": "stdout"
        }
      ]
    },
    {
      "cell_type": "code",
      "metadata": {
        "id": "imLWLfUN7nxH",
        "colab_type": "code",
        "colab": {}
      },
      "source": [
        "df['YEAR']=1\n",
        "df['MONTH']=1\n",
        "df['DATE']=1\n"
      ],
      "execution_count": null,
      "outputs": []
    },
    {
      "cell_type": "code",
      "metadata": {
        "id": "FETN2nX9sO75",
        "colab_type": "code",
        "colab": {
          "base_uri": "https://localhost:8080/",
          "height": 360
        },
        "outputId": "6bcb096d-2bff-415b-fd36-bc0fbb1aff8d"
      },
      "source": [
        "df.info()"
      ],
      "execution_count": null,
      "outputs": [
        {
          "output_type": "stream",
          "text": [
            "<class 'pandas.core.frame.DataFrame'>\n",
            "RangeIndex: 846404 entries, 0 to 846403\n",
            "Data columns (total 13 columns):\n",
            " #   Column       Non-Null Count   Dtype  \n",
            "---  ------       --------------   -----  \n",
            " 0   OPEN         846404 non-null  float64\n",
            " 1   HIGH         846404 non-null  float64\n",
            " 2   LOW          846404 non-null  float64\n",
            " 3   CLOSE        846404 non-null  float64\n",
            " 4   LAST         846404 non-null  float64\n",
            " 5   PREVCLOSE    846404 non-null  float64\n",
            " 6   TOTTRDQTY    846404 non-null  int64  \n",
            " 7   TOTTRDVAL    846404 non-null  float64\n",
            " 8   TIMESTAMP    846404 non-null  object \n",
            " 9   TOTALTRADES  846404 non-null  int64  \n",
            " 10  YEAR         846404 non-null  int64  \n",
            " 11  MONTH        846404 non-null  int64  \n",
            " 12  DATE         846404 non-null  int64  \n",
            "dtypes: float64(7), int64(5), object(1)\n",
            "memory usage: 83.9+ MB\n"
          ],
          "name": "stdout"
        }
      ]
    },
    {
      "cell_type": "code",
      "metadata": {
        "id": "dBaqLdw8o3po",
        "colab_type": "code",
        "colab": {}
      },
      "source": [
        "df['TIMESTAMP'] = pd.to_datetime(df['TIMESTAMP'])\n",
        "df['YEAR'] = pd.DatetimeIndex(df['TIMESTAMP']).year\n",
        "df['MONTH'] = pd.DatetimeIndex(df['TIMESTAMP']).month\n",
        "df['DATE'] = pd.DatetimeIndex(df['TIMESTAMP']).day"
      ],
      "execution_count": null,
      "outputs": []
    },
    {
      "cell_type": "code",
      "metadata": {
        "id": "TZtd1YAAq-F5",
        "colab_type": "code",
        "colab": {
          "base_uri": "https://localhost:8080/",
          "height": 154
        },
        "outputId": "c30742ad-f2ad-498e-cd38-7a73c4882922"
      },
      "source": [
        "print(df.head())"
      ],
      "execution_count": null,
      "outputs": [
        {
          "output_type": "stream",
          "text": [
            "       OPEN      HIGH       LOW     CLOSE  ...  TOTALTRADES  YEAR  MONTH  DATE\n",
            "0     37.80     37.80     36.15     36.85  ...          202  2017      6    28\n",
            "1      4.10      4.85      4.00      4.55  ...         7353  2017      6    28\n",
            "2  13425.15  13469.55  12920.00  13266.70  ...          748  2017      6    28\n",
            "3     61.00     61.90     60.35     61.00  ...          437  2017      6    28\n",
            "4    546.10    548.00    535.00    537.45  ...         1866  2017      6    28\n",
            "\n",
            "[5 rows x 13 columns]\n"
          ],
          "name": "stdout"
        }
      ]
    },
    {
      "cell_type": "code",
      "metadata": {
        "id": "lNzgpi7qJMFq",
        "colab_type": "code",
        "colab": {
          "base_uri": "https://localhost:8080/",
          "height": 257
        },
        "outputId": "f1f0c857-312f-444d-dab5-5a23199aed07"
      },
      "source": [
        "print(df.dtypes)"
      ],
      "execution_count": null,
      "outputs": [
        {
          "output_type": "stream",
          "text": [
            "OPEN                  float64\n",
            "HIGH                  float64\n",
            "LOW                   float64\n",
            "CLOSE                 float64\n",
            "LAST                  float64\n",
            "PREVCLOSE             float64\n",
            "TOTTRDQTY               int64\n",
            "TOTTRDVAL             float64\n",
            "TIMESTAMP      datetime64[ns]\n",
            "TOTALTRADES             int64\n",
            "YEAR                    int64\n",
            "MONTH                   int64\n",
            "DATE                    int64\n",
            "dtype: object\n"
          ],
          "name": "stdout"
        }
      ]
    },
    {
      "cell_type": "code",
      "metadata": {
        "id": "2ysepfFc4T5T",
        "colab_type": "code",
        "colab": {
          "base_uri": "https://localhost:8080/",
          "height": 360
        },
        "outputId": "956bb2e1-1345-402d-907e-ae9330cb3b7b"
      },
      "source": [
        "df.info()"
      ],
      "execution_count": null,
      "outputs": [
        {
          "output_type": "stream",
          "text": [
            "<class 'pandas.core.frame.DataFrame'>\n",
            "RangeIndex: 846404 entries, 0 to 846403\n",
            "Data columns (total 13 columns):\n",
            " #   Column       Non-Null Count   Dtype         \n",
            "---  ------       --------------   -----         \n",
            " 0   OPEN         846404 non-null  float64       \n",
            " 1   HIGH         846404 non-null  float64       \n",
            " 2   LOW          846404 non-null  float64       \n",
            " 3   CLOSE        846404 non-null  float64       \n",
            " 4   LAST         846404 non-null  float64       \n",
            " 5   PREVCLOSE    846404 non-null  float64       \n",
            " 6   TOTTRDQTY    846404 non-null  int64         \n",
            " 7   TOTTRDVAL    846404 non-null  float64       \n",
            " 8   TIMESTAMP    846404 non-null  datetime64[ns]\n",
            " 9   TOTALTRADES  846404 non-null  int64         \n",
            " 10  YEAR         846404 non-null  int64         \n",
            " 11  MONTH        846404 non-null  int64         \n",
            " 12  DATE         846404 non-null  int64         \n",
            "dtypes: datetime64[ns](1), float64(7), int64(5)\n",
            "memory usage: 83.9 MB\n"
          ],
          "name": "stdout"
        }
      ]
    },
    {
      "cell_type": "code",
      "metadata": {
        "id": "X-9vZVJl74bP",
        "colab_type": "code",
        "colab": {}
      },
      "source": [
        "#remove TIMESTAMP column\n",
        "df = df.drop('TIMESTAMP', 1)"
      ],
      "execution_count": null,
      "outputs": []
    },
    {
      "cell_type": "code",
      "metadata": {
        "id": "v4XNu7yBo6f3",
        "colab_type": "code",
        "colab": {
          "base_uri": "https://localhost:8080/",
          "height": 240
        },
        "outputId": "46c2d7da-03e2-45a9-bca4-5e7bd58b2400"
      },
      "source": [
        "#check for missing values\n",
        "print(df.isnull().sum())"
      ],
      "execution_count": null,
      "outputs": [
        {
          "output_type": "stream",
          "text": [
            "OPEN           0\n",
            "HIGH           0\n",
            "LOW            0\n",
            "CLOSE          0\n",
            "LAST           0\n",
            "PREVCLOSE      0\n",
            "TOTTRDQTY      0\n",
            "TOTTRDVAL      0\n",
            "TOTALTRADES    0\n",
            "YEAR           0\n",
            "MONTH          0\n",
            "DATE           0\n",
            "dtype: int64\n"
          ],
          "name": "stdout"
        }
      ]
    },
    {
      "cell_type": "code",
      "metadata": {
        "id": "JXIbPeqarFWO",
        "colab_type": "code",
        "colab": {}
      },
      "source": [
        "#saving the csv file \n",
        "#df.to_csv(r'/contentdrive/My\\ Drive/nse_data.csv')"
      ],
      "execution_count": null,
      "outputs": []
    },
    {
      "cell_type": "code",
      "metadata": {
        "id": "WSGMM9T38hQF",
        "colab_type": "code",
        "colab": {
          "base_uri": "https://localhost:8080/",
          "height": 174
        },
        "outputId": "eeb788c1-a885-458d-b39e-b55dac2a7f9f"
      },
      "source": [
        "#installing seaborn\n",
        "!pip install -U statsmodels"
      ],
      "execution_count": null,
      "outputs": [
        {
          "output_type": "stream",
          "text": [
            "Requirement already up-to-date: statsmodels in /usr/local/lib/python3.6/dist-packages (0.11.1)\n",
            "Requirement already satisfied, skipping upgrade: pandas>=0.21 in /usr/local/lib/python3.6/dist-packages (from statsmodels) (1.0.3)\n",
            "Requirement already satisfied, skipping upgrade: patsy>=0.5 in /usr/local/lib/python3.6/dist-packages (from statsmodels) (0.5.1)\n",
            "Requirement already satisfied, skipping upgrade: scipy>=1.0 in /usr/local/lib/python3.6/dist-packages (from statsmodels) (1.4.1)\n",
            "Requirement already satisfied, skipping upgrade: numpy>=1.14 in /usr/local/lib/python3.6/dist-packages (from statsmodels) (1.18.4)\n",
            "Requirement already satisfied, skipping upgrade: python-dateutil>=2.6.1 in /usr/local/lib/python3.6/dist-packages (from pandas>=0.21->statsmodels) (2.8.1)\n",
            "Requirement already satisfied, skipping upgrade: pytz>=2017.2 in /usr/local/lib/python3.6/dist-packages (from pandas>=0.21->statsmodels) (2018.9)\n",
            "Requirement already satisfied, skipping upgrade: six in /usr/local/lib/python3.6/dist-packages (from patsy>=0.5->statsmodels) (1.12.0)\n"
          ],
          "name": "stdout"
        }
      ]
    },
    {
      "cell_type": "code",
      "metadata": {
        "id": "eHzJsbVnTaDK",
        "colab_type": "code",
        "colab": {
          "base_uri": "https://localhost:8080/",
          "height": 516
        },
        "outputId": "37ade1b3-af91-4c64-e877-6abd4a9b330f"
      },
      "source": [
        "#visalization of data using line plot\n",
        "\n",
        "import matplotlib.pyplot as plt\n",
        "# get columns to plot\n",
        "columns = df.columns\n",
        "# create x data\n",
        "x_data = range(0, len(df))\n",
        "y_data = df['CLOSE']\n",
        "# create figure and axis\n",
        "fig, ax = plt.subplots(figsize=(15.,8.))\n",
        "# plot each column\n",
        "for column in columns:\n",
        "    ax.plot(x_data, df[column], label=column)\n",
        "# set title and legend\n",
        "ax.set_title('Stock Dataset')\n",
        "ax.legend()"
      ],
      "execution_count": null,
      "outputs": [
        {
          "output_type": "execute_result",
          "data": {
            "text/plain": [
              "<matplotlib.legend.Legend at 0x7f948d1f05c0>"
            ]
          },
          "metadata": {
            "tags": []
          },
          "execution_count": 77
        },
        {
          "output_type": "display_data",
          "data": {
            "image/png": "[encoded data removed]",
            "text/plain": [
              "<Figure size 1080x576 with 1 Axes>"
            ]
          },
          "metadata": {
            "tags": [],
            "needs_background": "light"
          }
        }
      ]
    },
    {
      "cell_type": "code",
      "metadata": {
        "id": "eZ6R5cc6WpKG",
        "colab_type": "code",
        "colab": {}
      },
      "source": [
        "X = df.drop('CLOSE', axis=1)\n",
        "Y = df['CLOSE']"
      ],
      "execution_count": null,
      "outputs": []
    },
    {
      "cell_type": "code",
      "metadata": {
        "id": "iq2nNKszW60S",
        "colab_type": "code",
        "colab": {
          "base_uri": "https://localhost:8080/",
          "height": 274
        },
        "outputId": "92f87617-cfa7-4557-d675-ec7c6028d364"
      },
      "source": [
        "print('x =',X.head())\n",
        "print('\\ny =',Y.head())"
      ],
      "execution_count": null,
      "outputs": [
        {
          "output_type": "stream",
          "text": [
            "x =        OPEN      HIGH       LOW      LAST  ...  TOTALTRADES  YEAR  MONTH  DATE\n",
            "0     37.80     37.80     36.15     37.40  ...          202  2017      6    28\n",
            "1      4.10      4.85      4.00      4.65  ...         7353  2017      6    28\n",
            "2  13425.15  13469.55  12920.00  13300.00  ...          748  2017      6    28\n",
            "3     61.00     61.90     60.35     61.10  ...          437  2017      6    28\n",
            "4    546.10    548.00    535.00    535.20  ...         1866  2017      6    28\n",
            "\n",
            "[5 rows x 11 columns]\n",
            "\n",
            "y = 0       36.85\n",
            "1        4.55\n",
            "2    13266.70\n",
            "3       61.00\n",
            "4      537.45\n",
            "Name: CLOSE, dtype: float64\n"
          ],
          "name": "stdout"
        }
      ]
    },
    {
      "cell_type": "code",
      "metadata": {
        "id": "kbclqbaMsE39",
        "colab_type": "code",
        "colab": {}
      },
      "source": [
        "#Normalizing data using min-max normalization\n",
        "\n",
        "normalized_df=(X-X.min())/(X.max()-X.min())"
      ],
      "execution_count": null,
      "outputs": []
    },
    {
      "cell_type": "code",
      "metadata": {
        "id": "DMMN_rx39HCR",
        "colab_type": "code",
        "colab": {}
      },
      "source": [
        "#mounting google drive\n",
        "#from google.colab import drive\n",
        "#drive.mount('/content/drive')"
      ],
      "execution_count": null,
      "outputs": []
    },
    {
      "cell_type": "code",
      "metadata": {
        "id": "YrR-EwWitO5R",
        "colab_type": "code",
        "colab": {
          "base_uri": "https://localhost:8080/",
          "height": 203
        },
        "outputId": "b8ae9b4f-f213-4d16-c39f-c63de0aadf98"
      },
      "source": [
        "normalized_df.head()"
      ],
      "execution_count": null,
      "outputs": [
        {
          "output_type": "execute_result",
          "data": {
            "text/html": [
              "<div>\n",
              "<style scoped>\n",
              "    .dataframe tbody tr th:only-of-type {\n",
              "        vertical-align: middle;\n",
              "    }\n",
              "\n",
              "    .dataframe tbody tr th {\n",
              "        vertical-align: top;\n",
              "    }\n",
              "\n",
              "    .dataframe thead th {\n",
              "        text-align: right;\n",
              "    }\n",
              "</style>\n",
              "<table border=\"1\" class=\"dataframe\">\n",
              "  <thead>\n",
              "    <tr style=\"text-align: right;\">\n",
              "      <th></th>\n",
              "      <th>OPEN</th>\n",
              "      <th>HIGH</th>\n",
              "      <th>LOW</th>\n",
              "      <th>LAST</th>\n",
              "      <th>PREVCLOSE</th>\n",
              "      <th>TOTTRDQTY</th>\n",
              "      <th>TOTTRDVAL</th>\n",
              "      <th>TOTALTRADES</th>\n",
              "      <th>YEAR</th>\n",
              "      <th>MONTH</th>\n",
              "      <th>DATE</th>\n",
              "    </tr>\n",
              "  </thead>\n",
              "  <tbody>\n",
              "    <tr>\n",
              "      <th>0</th>\n",
              "      <td>0.000315</td>\n",
              "      <td>0.000315</td>\n",
              "      <td>0.000301</td>\n",
              "      <td>0.000312</td>\n",
              "      <td>0.000308</td>\n",
              "      <td>0.000035</td>\n",
              "      <td>0.000007</td>\n",
              "      <td>0.000168</td>\n",
              "      <td>1.0</td>\n",
              "      <td>0.454545</td>\n",
              "      <td>0.9</td>\n",
              "    </tr>\n",
              "    <tr>\n",
              "      <th>1</th>\n",
              "      <td>0.000034</td>\n",
              "      <td>0.000040</td>\n",
              "      <td>0.000033</td>\n",
              "      <td>0.000039</td>\n",
              "      <td>0.000033</td>\n",
              "      <td>0.025782</td>\n",
              "      <td>0.000646</td>\n",
              "      <td>0.006163</td>\n",
              "      <td>1.0</td>\n",
              "      <td>0.454545</td>\n",
              "      <td>0.9</td>\n",
              "    </tr>\n",
              "    <tr>\n",
              "      <th>2</th>\n",
              "      <td>0.111885</td>\n",
              "      <td>0.112255</td>\n",
              "      <td>0.107675</td>\n",
              "      <td>0.110843</td>\n",
              "      <td>0.112180</td>\n",
              "      <td>0.000003</td>\n",
              "      <td>0.000212</td>\n",
              "      <td>0.000626</td>\n",
              "      <td>1.0</td>\n",
              "      <td>0.454545</td>\n",
              "      <td>0.9</td>\n",
              "    </tr>\n",
              "    <tr>\n",
              "      <th>3</th>\n",
              "      <td>0.000508</td>\n",
              "      <td>0.000515</td>\n",
              "      <td>0.000503</td>\n",
              "      <td>0.000509</td>\n",
              "      <td>0.000505</td>\n",
              "      <td>0.000035</td>\n",
              "      <td>0.000012</td>\n",
              "      <td>0.000365</td>\n",
              "      <td>1.0</td>\n",
              "      <td>0.454545</td>\n",
              "      <td>0.9</td>\n",
              "    </tr>\n",
              "    <tr>\n",
              "      <th>4</th>\n",
              "      <td>0.004551</td>\n",
              "      <td>0.004567</td>\n",
              "      <td>0.004458</td>\n",
              "      <td>0.004460</td>\n",
              "      <td>0.004562</td>\n",
              "      <td>0.000102</td>\n",
              "      <td>0.000303</td>\n",
              "      <td>0.001563</td>\n",
              "      <td>1.0</td>\n",
              "      <td>0.454545</td>\n",
              "      <td>0.9</td>\n",
              "    </tr>\n",
              "  </tbody>\n",
              "</table>\n",
              "</div>"
            ],
            "text/plain": [
              "       OPEN      HIGH       LOW      LAST  ...  TOTALTRADES  YEAR     MONTH  DATE\n",
              "0  0.000315  0.000315  0.000301  0.000312  ...     0.000168   1.0  0.454545   0.9\n",
              "1  0.000034  0.000040  0.000033  0.000039  ...     0.006163   1.0  0.454545   0.9\n",
              "2  0.111885  0.112255  0.107675  0.110843  ...     0.000626   1.0  0.454545   0.9\n",
              "3  0.000508  0.000515  0.000503  0.000509  ...     0.000365   1.0  0.454545   0.9\n",
              "4  0.004551  0.004567  0.004458  0.004460  ...     0.001563   1.0  0.454545   0.9\n",
              "\n",
              "[5 rows x 11 columns]"
            ]
          },
          "metadata": {
            "tags": []
          },
          "execution_count": 82
        }
      ]
    },
    {
      "cell_type": "code",
      "metadata": {
        "id": "MpekOefyKvef",
        "colab_type": "code",
        "colab": {}
      },
      "source": [
        "#PCA calculation\n",
        "#Load dependencies\n",
        "import pandas as pd\n",
        "import numpy as np\n",
        "from sklearn.preprocessing import StandardScaler\n",
        "from matplotlib import*\n",
        "import matplotlib.pyplot as plt\n",
        "from matplotlib.cm import register_cmap\n",
        "from scipy import stats\n",
        "from sklearn.decomposition import PCA as sklearnPCA\n",
        "import seaborn\n",
        "\n",
        "X_std = StandardScaler().fit_transform(X)"
      ],
      "execution_count": null,
      "outputs": []
    },
    {
      "cell_type": "code",
      "metadata": {
        "id": "buO6XBobMrE9",
        "colab_type": "code",
        "colab": {
          "base_uri": "https://localhost:8080/",
          "height": 600
        },
        "outputId": "c7238ec8-ba1c-4da5-ff77-90409dc50df2"
      },
      "source": [
        "#Covariance” indicates the direction of the linear relationship between variables.\n",
        "#“Correlation” on the other hand measures both the strength and direction of the linear relationship between two variables. \n",
        "#Correlation is a function of the covariance.\n",
        "mean_vec = np.mean(X_std, axis=0)\n",
        "cov_mat = (X_std - mean_vec).T.dot((X_std - mean_vec)) / (X_std.shape[0]-1)\n",
        "print('Covariance matrix \\n%s' %cov_mat)"
      ],
      "execution_count": null,
      "outputs": [
        {
          "output_type": "stream",
          "text": [
            "Covariance matrix \n",
            "[[ 1.00000118e+00  9.99888164e-01  9.99906703e-01  9.99743955e-01\n",
            "   9.99165298e-01 -3.18362066e-02  6.02346392e-02  2.21014042e-02\n",
            "   2.73070489e-02  1.60158408e-02  6.63192113e-04]\n",
            " [ 9.99888164e-01  1.00000118e+00  9.99819335e-01  9.99830881e-01\n",
            "   9.99112191e-01 -3.17537313e-02  6.09119284e-02  2.27654361e-02\n",
            "   2.71809532e-02  1.60769189e-02  6.71109101e-04]\n",
            " [ 9.99906703e-01  9.99819335e-01  1.00000118e+00  9.99809380e-01\n",
            "   9.99082112e-01 -3.18612717e-02  5.98635678e-02  2.16776007e-02\n",
            "   2.75607764e-02  1.60098894e-02  6.89207290e-04]\n",
            " [ 9.99743955e-01  9.99830881e-01  9.99809380e-01  1.00000118e+00\n",
            "   9.98969750e-01 -3.17435395e-02  6.04512204e-02  2.24285659e-02\n",
            "   2.73468870e-02  1.60586260e-02  7.12022075e-04]\n",
            " [ 9.99165298e-01  9.99112191e-01  9.99082112e-01  9.98969750e-01\n",
            "   1.00000118e+00 -3.18736960e-02  6.00442895e-02  2.20856880e-02\n",
            "   2.72731293e-02  1.60707525e-02  5.86383386e-04]\n",
            " [-3.18362066e-02 -3.17537313e-02 -3.18612717e-02 -3.17435395e-02\n",
            "  -3.18736960e-02  1.00000118e+00  4.47042017e-01  4.75124179e-01\n",
            "   2.22980458e-02  8.54989398e-03  7.29005137e-03]\n",
            " [ 6.02346392e-02  6.09119284e-02  5.98635678e-02  6.04512204e-02\n",
            "   6.00442895e-02  4.47042017e-01  1.00000118e+00  8.56671867e-01\n",
            "   2.95757562e-02  1.50255155e-02  1.08804008e-02]\n",
            " [ 2.21014042e-02  2.27654361e-02  2.16776007e-02  2.24285659e-02\n",
            "   2.20856880e-02  4.75124179e-01  8.56671867e-01  1.00000118e+00\n",
            "   1.96001295e-02  1.35533958e-02  5.97686496e-03]\n",
            " [ 2.73070489e-02  2.71809532e-02  2.75607764e-02  2.73468870e-02\n",
            "   2.72731293e-02  2.22980458e-02  2.95757562e-02  1.96001295e-02\n",
            "   1.00000118e+00 -3.01871264e-03  5.96937945e-05]\n",
            " [ 1.60158408e-02  1.60769189e-02  1.60098894e-02  1.60586260e-02\n",
            "   1.60707525e-02  8.54989398e-03  1.50255155e-02  1.35533958e-02\n",
            "  -3.01871264e-03  1.00000118e+00  2.63859017e-02]\n",
            " [ 6.63192113e-04  6.71109101e-04  6.89207290e-04  7.12022075e-04\n",
            "   5.86383386e-04  7.29005137e-03  1.08804008e-02  5.97686496e-03\n",
            "   5.96937945e-05  2.63859017e-02  1.00000118e+00]]\n"
          ],
          "name": "stdout"
        }
      ]
    },
    {
      "cell_type": "code",
      "metadata": {
        "id": "syXAh_5oM2I-",
        "colab_type": "code",
        "colab": {
          "base_uri": "https://localhost:8080/",
          "height": 686
        },
        "outputId": "e6344ab2-67a9-4b64-f875-d7c44b275d83"
      },
      "source": [
        "#Perform eigendecomposition on covariance matrix\n",
        "eig_vals, eig_vecs = np.linalg.eig(cov_mat)\n",
        "print('Eigenvectors \\n%s' %eig_vecs)\n",
        "print('\\nEigenvalues \\n%s' %eig_vals)"
      ],
      "execution_count": null,
      "outputs": [
        {
          "output_type": "stream",
          "text": [
            "Eigenvectors \n",
            "[[-4.46782830e-01  1.33522099e-02 -1.31318508e-02 -2.06386312e-03\n",
            "   3.45185520e-03  6.34702421e-03  4.96650099e-03  1.65586477e-01\n",
            "   6.71774493e-01 -5.55489125e-01  1.12628729e-01]\n",
            " [-4.46785052e-01  1.29583390e-02 -1.25459446e-02 -2.01576337e-03\n",
            "   3.43353835e-03  6.50523681e-03  4.94482121e-03  2.07156856e-01\n",
            "  -4.54510375e-01  2.25657343e-02  7.41601187e-01]\n",
            " [-4.46771624e-01  1.35768262e-02 -1.35034318e-02 -2.07087649e-03\n",
            "   3.44174798e-03  6.07033682e-03  4.67906216e-03  2.27060611e-01\n",
            "  -5.03254638e-01 -3.08974561e-01 -6.32191850e-01]\n",
            " [-4.46754406e-01  1.31758433e-02 -1.29704295e-02 -2.01126553e-03\n",
            "   3.45242245e-03  6.31267032e-03  5.51718584e-03  2.90677778e-01\n",
            "   2.97879880e-01  7.68114284e-01 -1.91720797e-01]\n",
            " [-4.46569479e-01  1.34041872e-02 -1.31475434e-02 -2.06818611e-03\n",
            "   3.35104940e-03  6.37333833e-03  5.74958760e-03 -8.90851644e-01\n",
            "  -1.18994089e-02  7.38738752e-02 -3.03049338e-02]\n",
            " [ 1.13006382e-02 -4.76462747e-01 -8.78514451e-01 -9.78718881e-03\n",
            "   5.59796176e-03  4.24379300e-03 -3.03745620e-02  8.61521180e-06\n",
            "  -1.21204424e-05  1.37440094e-04  3.70244587e-04]\n",
            " [-3.65681366e-02 -6.16960479e-01  3.58536955e-01 -8.00657215e-03\n",
            "   5.31481341e-03  2.04596786e-02 -6.99258355e-01 -5.44300087e-04\n",
            "   2.34055174e-04  1.78822491e-04 -4.58202773e-04]\n",
            " [-1.89717182e-02 -6.24469569e-01  3.14050826e-01 -1.16276287e-02\n",
            "   3.22154370e-03  3.16306081e-02  7.14074976e-01  3.21450333e-04\n",
            "  -2.04910536e-04 -6.17156000e-04 -4.87004345e-04]\n",
            " [-1.55334187e-02 -3.24845859e-02  1.29735342e-02 -1.16607502e-01\n",
            "  -1.11758227e-01 -9.86097183e-01  7.75903788e-03 -5.35370678e-05\n",
            "   5.57858219e-05  5.43321075e-05  2.74991030e-04]\n",
            " [-9.11599399e-03 -1.73472588e-02 -3.10252020e-03  7.02817979e-01\n",
            "  -7.11090274e-01 -1.83904986e-03  6.85652151e-04  3.70396324e-05\n",
            "   1.23767342e-05 -3.63358954e-05 -2.88651776e-05]\n",
            " [-5.37772862e-04 -1.18656730e-02  2.11513660e-03  7.01522308e-01\n",
            "   6.94069203e-01 -1.61158119e-01  4.10938220e-03 -8.70766183e-05\n",
            "  -3.25616646e-07 -2.23426785e-05  2.35476097e-05]]\n",
            "\n",
            "Eigenvalues \n",
            "[5.00609523e+00 2.20803190e+00 6.45027083e-01 1.02609126e+00\n",
            " 9.73144855e-01 9.97790925e-01 1.41959320e-01 1.37819219e-03\n",
            " 5.04141131e-05 2.67940296e-04 1.75878650e-04]\n"
          ],
          "name": "stdout"
        }
      ]
    },
    {
      "cell_type": "code",
      "metadata": {
        "id": "aNn-zqg1M_3l",
        "colab_type": "code",
        "colab": {
          "base_uri": "https://localhost:8080/",
          "height": 225
        },
        "outputId": "d05e11f3-61e6-429b-a2c1-19a8147c1567"
      },
      "source": [
        "# Visually confirm that the list is correctly sorted by decreasing eigenvalues\n",
        "#The eigenvectors with the lowest eigenvalues describe the least amount of variation within the dataset\n",
        "# eigen_pairs=[]\n",
        "# for i in range(len(eig_vals)):\n",
        "#   eigen_pairs.append((np.abs(eig_vals[i]), eig_vecs[:,i]))\n",
        "\n",
        "eig_pairs = [(np.abs(eig_vals[i]), eig_vecs[:,i]) for i in range(len(eig_vals))]\n",
        "eig_pairs.sort(reverse = True)\n",
        "print('Eigenvalues:')\n",
        "for i in eig_pairs:\n",
        "    print(i[0])"
      ],
      "execution_count": null,
      "outputs": [
        {
          "output_type": "stream",
          "text": [
            "Eigenvalues:\n",
            "5.006095233612186\n",
            "2.2080318957041225\n",
            "1.026091258647287\n",
            "0.9977909254950521\n",
            "0.9731448550406291\n",
            "0.6450270825909659\n",
            "0.14195931983865182\n",
            "0.0013781921854214166\n",
            "0.00026794029565981335\n",
            "0.00017587865020775228\n",
            "5.04141130727932e-05\n"
          ],
          "name": "stdout"
        }
      ]
    },
    {
      "cell_type": "code",
      "metadata": {
        "id": "shdm5knyObg8",
        "colab_type": "code",
        "colab": {
          "base_uri": "https://localhost:8080/",
          "height": 442
        },
        "outputId": "fc85a231-927e-4d0c-e519-a1afe661cbda"
      },
      "source": [
        "#Explained variance\n",
        "pca = sklearnPCA().fit(X_std)\n",
        "plt.plot(np.cumsum(pca.explained_variance_ratio_))\n",
        "plt.xlabel('Number of Eigenvectors')\n",
        "plt.ylabel('Variance')\n",
        "from pylab import rcParams\n",
        "rcParams['figure.figsize'] = 7,7\n",
        "plt.show()"
      ],
      "execution_count": null,
      "outputs": [
        {
          "output_type": "display_data",
          "data": {
            "image/png": "[encoded data removed]",
            "text/plain": [
              "<Figure size 504x504 with 1 Axes>"
            ]
          },
          "metadata": {
            "tags": [],
            "needs_background": "light"
          }
        }
      ]
    },
    {
      "cell_type": "code",
      "metadata": {
        "id": "pewplAqFc26_",
        "colab_type": "code",
        "colab": {
          "base_uri": "https://localhost:8080/",
          "height": 34
        },
        "outputId": "40004eb6-54dc-461d-cfb8-e5ccd6ecba89"
      },
      "source": [
        "Y.head()\n",
        "print(Y.shape)"
      ],
      "execution_count": null,
      "outputs": [
        {
          "output_type": "stream",
          "text": [
            "(846404,)\n"
          ],
          "name": "stdout"
        }
      ]
    },
    {
      "cell_type": "code",
      "metadata": {
        "id": "PIdDb63s0J3O",
        "colab_type": "code",
        "colab": {
          "base_uri": "https://localhost:8080/",
          "height": 34
        },
        "outputId": "2c4f825b-aaa5-458f-b726-e298a64161d9"
      },
      "source": [
        "y = np.array(Y).reshape(-1, 1)\n",
        "print(y.shape)"
      ],
      "execution_count": null,
      "outputs": [
        {
          "output_type": "stream",
          "text": [
            "(846404, 1)\n"
          ],
          "name": "stdout"
        }
      ]
    },
    {
      "cell_type": "code",
      "metadata": {
        "id": "G92Be2eAH6qL",
        "colab_type": "code",
        "colab": {}
      },
      "source": [
        "from sklearn.model_selection import train_test_split\n",
        "\n",
        "def get_data(pdf_no):\n",
        "  X_train, X_test, y_train, y_test = train_test_split(pdf_no, y, test_size=0.3, random_state=0)\n",
        "  y_train = np.array(y_train)\n",
        "\n",
        "  y_train = np.array(y_train)\n",
        "  y_test = np.array(y_test)\n",
        "  X_train = np.array(X_train)\n",
        "  X_test = np.array(X_test)\n",
        "  X_train = np.reshape(X_train, (X_train.shape[0],X_train.shape[1]))\n",
        "  X_test = np.reshape(X_test, (X_test.shape[0],X_test.shape[1]))\n",
        "  return X_train, X_test, y_train, y_test\n",
        "\n",
        "#print('xtrain={}, ytrain={}, xtest={}, ytest={}'.format(X_train.shape,y_train.shape,X_test.shape,y_test.shape))"
      ],
      "execution_count": null,
      "outputs": []
    },
    {
      "cell_type": "code",
      "metadata": {
        "id": "Gfw1eRPkYgUL",
        "colab_type": "code",
        "colab": {}
      },
      "source": [
        "pdf = [1,2,3,4,5,6,7,8,9,10,11]\n",
        "accuracy=[]"
      ],
      "execution_count": null,
      "outputs": []
    },
    {
      "cell_type": "markdown",
      "metadata": {
        "id": "AOnbhVsjL7ch",
        "colab_type": "text"
      },
      "source": [
        "Using 1 component of PCA"
      ]
    },
    {
      "cell_type": "code",
      "metadata": {
        "colab_type": "code",
        "id": "hpaicq63MOJ2",
        "colab": {
          "base_uri": "https://localhost:8080/",
          "height": 203
        },
        "outputId": "44d0d923-5355-40e1-8238-9e078b7d0860"
      },
      "source": [
        "from sklearn.decomposition import PCA\n",
        "pca = PCA(n_components=1)\n",
        "principalComponents = pca.fit_transform(X_std)\n",
        "pdf1 = pd.DataFrame(data = principalComponents, columns = ['pca1'])\n",
        "pdf1.head()"
      ],
      "execution_count": null,
      "outputs": [
        {
          "output_type": "execute_result",
          "data": {
            "text/html": [
              "<div>\n",
              "<style scoped>\n",
              "    .dataframe tbody tr th:only-of-type {\n",
              "        vertical-align: middle;\n",
              "    }\n",
              "\n",
              "    .dataframe tbody tr th {\n",
              "        vertical-align: top;\n",
              "    }\n",
              "\n",
              "    .dataframe thead th {\n",
              "        text-align: right;\n",
              "    }\n",
              "</style>\n",
              "<table border=\"1\" class=\"dataframe\">\n",
              "  <thead>\n",
              "    <tr style=\"text-align: right;\">\n",
              "      <th></th>\n",
              "      <th>pca1</th>\n",
              "    </tr>\n",
              "  </thead>\n",
              "  <tbody>\n",
              "    <tr>\n",
              "      <th>0</th>\n",
              "      <td>-0.581320</td>\n",
              "    </tr>\n",
              "    <tr>\n",
              "      <th>1</th>\n",
              "      <td>-0.659691</td>\n",
              "    </tr>\n",
              "    <tr>\n",
              "      <th>2</th>\n",
              "      <td>14.219191</td>\n",
              "    </tr>\n",
              "    <tr>\n",
              "      <th>3</th>\n",
              "      <td>-0.554499</td>\n",
              "    </tr>\n",
              "    <tr>\n",
              "      <th>4</th>\n",
              "      <td>-0.013932</td>\n",
              "    </tr>\n",
              "  </tbody>\n",
              "</table>\n",
              "</div>"
            ],
            "text/plain": [
              "        pca1\n",
              "0  -0.581320\n",
              "1  -0.659691\n",
              "2  14.219191\n",
              "3  -0.554499\n",
              "4  -0.013932"
            ]
          },
          "metadata": {
            "tags": []
          },
          "execution_count": 92
        }
      ]
    },
    {
      "cell_type": "code",
      "metadata": {
        "colab_type": "code",
        "id": "Eepk5ESVYAJN",
        "colab": {
          "base_uri": "https://localhost:8080/",
          "height": 34
        },
        "outputId": "c0b47989-77c3-4c88-f155-d1b83e905892"
      },
      "source": [
        "from sklearn import linear_model\n",
        "from math import sqrt\n",
        "\n",
        "X_train,X_test,y_train,y_test=get_data(pdf1)\n",
        "\n",
        "rr = linear_model.Ridge() \n",
        "rr.fit(X_train, y_train)\n",
        "pr=rr.predict(X_test) \n",
        "acc=0\n",
        "for i in range(len(pr)):\n",
        "  if(sqrt((y_test[i]-pr[i])**2)<15):\n",
        "    acc+=1\n",
        "print('Accuracy = ',(acc/(len(y_test)))*100)\n",
        "accuracy.append(acc/(len(y_test)))"
      ],
      "execution_count": null,
      "outputs": [
        {
          "output_type": "stream",
          "text": [
            "Accuracy =  48.400296153937035\n"
          ],
          "name": "stdout"
        }
      ]
    },
    {
      "cell_type": "markdown",
      "metadata": {
        "colab_type": "text",
        "id": "XsNvubJqMCde"
      },
      "source": [
        "Using 2 component of PCA"
      ]
    },
    {
      "cell_type": "code",
      "metadata": {
        "colab_type": "code",
        "id": "i63Pag57MWUO",
        "colab": {
          "base_uri": "https://localhost:8080/",
          "height": 203
        },
        "outputId": "34454757-42eb-439d-830f-3929e5b1f0e6"
      },
      "source": [
        "#2 components: checking performance\n",
        "from sklearn.decomposition import PCA\n",
        "pca = PCA(n_components=2)\n",
        "principalComponents = pca.fit_transform(X_std)\n",
        "pdf2 = pd.DataFrame(data = principalComponents, columns = ['pca1', 'pca2'])\n",
        "pdf2.head()"
      ],
      "execution_count": null,
      "outputs": [
        {
          "output_type": "execute_result",
          "data": {
            "text/html": [
              "<div>\n",
              "<style scoped>\n",
              "    .dataframe tbody tr th:only-of-type {\n",
              "        vertical-align: middle;\n",
              "    }\n",
              "\n",
              "    .dataframe tbody tr th {\n",
              "        vertical-align: top;\n",
              "    }\n",
              "\n",
              "    .dataframe thead th {\n",
              "        text-align: right;\n",
              "    }\n",
              "</style>\n",
              "<table border=\"1\" class=\"dataframe\">\n",
              "  <thead>\n",
              "    <tr style=\"text-align: right;\">\n",
              "      <th></th>\n",
              "      <th>pca1</th>\n",
              "      <th>pca2</th>\n",
              "    </tr>\n",
              "  </thead>\n",
              "  <tbody>\n",
              "    <tr>\n",
              "      <th>0</th>\n",
              "      <td>-0.581320</td>\n",
              "      <td>-0.348051</td>\n",
              "    </tr>\n",
              "    <tr>\n",
              "      <th>1</th>\n",
              "      <td>-0.659691</td>\n",
              "      <td>2.406933</td>\n",
              "    </tr>\n",
              "    <tr>\n",
              "      <th>2</th>\n",
              "      <td>14.219191</td>\n",
              "      <td>-0.739695</td>\n",
              "    </tr>\n",
              "    <tr>\n",
              "      <th>3</th>\n",
              "      <td>-0.554499</td>\n",
              "      <td>-0.338243</td>\n",
              "    </tr>\n",
              "    <tr>\n",
              "      <th>4</th>\n",
              "      <td>-0.013932</td>\n",
              "      <td>-0.247531</td>\n",
              "    </tr>\n",
              "  </tbody>\n",
              "</table>\n",
              "</div>"
            ],
            "text/plain": [
              "        pca1      pca2\n",
              "0  -0.581320 -0.348051\n",
              "1  -0.659691  2.406933\n",
              "2  14.219191 -0.739695\n",
              "3  -0.554499 -0.338243\n",
              "4  -0.013932 -0.247531"
            ]
          },
          "metadata": {
            "tags": []
          },
          "execution_count": 94
        }
      ]
    },
    {
      "cell_type": "code",
      "metadata": {
        "colab_type": "code",
        "id": "WZpdAHbuYD9A",
        "colab": {
          "base_uri": "https://localhost:8080/",
          "height": 34
        },
        "outputId": "6a66cc1b-4752-4eee-e63b-d12a54a38daf"
      },
      "source": [
        "#fitting the regressin model using 2 component data\n",
        "#from sklearn.model_selection import train_test_split\n",
        "\n",
        "X_train,X_test,y_train,y_test=get_data(pdf2)\n",
        "\n",
        "rr = linear_model.Ridge(alpha=0.1) # higher the alpha value, more restriction in the coefficients; low alpha > more generalization, coefficients are barely\n",
        "# restricted and in this case linear and ridge regression resembles\n",
        "rr.fit(X_train, y_train)\n",
        "pr=rr.predict(X_test) \n",
        "acc=0\n",
        "loss=[]\n",
        "for i in range(len(pr)):\n",
        "  if(sqrt((y_test[i]-pr[i])**2)<15):\n",
        "    acc+=1\n",
        "    loss.append(y_test[i]-pr[i])\n",
        "print('Accuracy = ',(acc/(len(y_test)))*100)\n",
        "accuracy.append(acc/(len(y_test)))"
      ],
      "execution_count": null,
      "outputs": [
        {
          "output_type": "stream",
          "text": [
            "Accuracy =  54.13552193193185\n"
          ],
          "name": "stdout"
        }
      ]
    },
    {
      "cell_type": "markdown",
      "metadata": {
        "colab_type": "text",
        "id": "xu7Cr0EJMDO4"
      },
      "source": [
        "Using 3 component of PCA"
      ]
    },
    {
      "cell_type": "code",
      "metadata": {
        "colab_type": "code",
        "id": "YuoXyZJEMceq",
        "colab": {
          "base_uri": "https://localhost:8080/",
          "height": 203
        },
        "outputId": "11d78895-d4bf-4ec9-8757-9b9c0ec87432"
      },
      "source": [
        "#3 components: checking performance\n",
        "from sklearn.decomposition import PCA\n",
        "pca = PCA(n_components=3)\n",
        "principalComponents = pca.fit_transform(X_std)\n",
        "pdf3 = pd.DataFrame(data = principalComponents, columns = ['pca1', 'pca2', 'pca3'])\n",
        "pdf3.head()"
      ],
      "execution_count": null,
      "outputs": [
        {
          "output_type": "execute_result",
          "data": {
            "text/html": [
              "<div>\n",
              "<style scoped>\n",
              "    .dataframe tbody tr th:only-of-type {\n",
              "        vertical-align: middle;\n",
              "    }\n",
              "\n",
              "    .dataframe tbody tr th {\n",
              "        vertical-align: top;\n",
              "    }\n",
              "\n",
              "    .dataframe thead th {\n",
              "        text-align: right;\n",
              "    }\n",
              "</style>\n",
              "<table border=\"1\" class=\"dataframe\">\n",
              "  <thead>\n",
              "    <tr style=\"text-align: right;\">\n",
              "      <th></th>\n",
              "      <th>pca1</th>\n",
              "      <th>pca2</th>\n",
              "      <th>pca3</th>\n",
              "    </tr>\n",
              "  </thead>\n",
              "  <tbody>\n",
              "    <tr>\n",
              "      <th>0</th>\n",
              "      <td>-0.581320</td>\n",
              "      <td>-0.348051</td>\n",
              "      <td>-0.748212</td>\n",
              "    </tr>\n",
              "    <tr>\n",
              "      <th>1</th>\n",
              "      <td>-0.659691</td>\n",
              "      <td>2.406933</td>\n",
              "      <td>-0.693062</td>\n",
              "    </tr>\n",
              "    <tr>\n",
              "      <th>2</th>\n",
              "      <td>14.219191</td>\n",
              "      <td>-0.739695</td>\n",
              "      <td>-0.679700</td>\n",
              "    </tr>\n",
              "    <tr>\n",
              "      <th>3</th>\n",
              "      <td>-0.554499</td>\n",
              "      <td>-0.338243</td>\n",
              "      <td>-0.747897</td>\n",
              "    </tr>\n",
              "    <tr>\n",
              "      <th>4</th>\n",
              "      <td>-0.013932</td>\n",
              "      <td>-0.247531</td>\n",
              "      <td>-0.743671</td>\n",
              "    </tr>\n",
              "  </tbody>\n",
              "</table>\n",
              "</div>"
            ],
            "text/plain": [
              "        pca1      pca2      pca3\n",
              "0  -0.581320 -0.348051 -0.748212\n",
              "1  -0.659691  2.406933 -0.693062\n",
              "2  14.219191 -0.739695 -0.679700\n",
              "3  -0.554499 -0.338243 -0.747897\n",
              "4  -0.013932 -0.247531 -0.743671"
            ]
          },
          "metadata": {
            "tags": []
          },
          "execution_count": 96
        }
      ]
    },
    {
      "cell_type": "code",
      "metadata": {
        "colab_type": "code",
        "id": "yP1deK0IYGAZ",
        "colab": {
          "base_uri": "https://localhost:8080/",
          "height": 34
        },
        "outputId": "3a88b7ec-6455-4cd3-bedd-6be9155386ff"
      },
      "source": [
        "#fitting the regressin model using 3 component data\n",
        "#from sklearn.model_selection import train_test_split\n",
        "\n",
        "X_train,X_test,y_train,y_test=get_data(pdf3)\n",
        "\n",
        "rr = linear_model.Ridge(alpha=0.1) # higher the alpha value, more restriction in the coefficients; low alpha > more generalization, coefficients are barely\n",
        "# restricted and in this case linear and ridge regression resembles\n",
        "rr.fit(X_train, y_train)\n",
        "pr=rr.predict(X_test) \n",
        "acc=0\n",
        "loss=[]\n",
        "for i in range(len(pr)):\n",
        "  if(sqrt((y_test[i]-pr[i])**2)<15):\n",
        "    acc+=1\n",
        "    loss.append(y_test[i]-pr[i])\n",
        "print('Accuracy = ',(acc/(len(y_test)))*100)\n",
        "accuracy.append(acc/(len(y_test)))"
      ],
      "execution_count": null,
      "outputs": [
        {
          "output_type": "stream",
          "text": [
            "Accuracy =  54.938130607036804\n"
          ],
          "name": "stdout"
        }
      ]
    },
    {
      "cell_type": "markdown",
      "metadata": {
        "colab_type": "text",
        "id": "csd4urXSMDgO"
      },
      "source": [
        "Using 4 component of PCA"
      ]
    },
    {
      "cell_type": "code",
      "metadata": {
        "colab_type": "code",
        "id": "fnHfT41gMjRY",
        "colab": {
          "base_uri": "https://localhost:8080/",
          "height": 203
        },
        "outputId": "c78a4231-8d9a-4309-a598-8ff5b49bf544"
      },
      "source": [
        "#4 components: checking performance\n",
        "from sklearn.decomposition import PCA\n",
        "pca = PCA(n_components=4)\n",
        "principalComponents = pca.fit_transform(X_std)\n",
        "pdf4 = pd.DataFrame(data = principalComponents, columns = ['pca1', 'pca2', 'pca3', 'pca4'])\n",
        "pdf4.head()"
      ],
      "execution_count": null,
      "outputs": [
        {
          "output_type": "execute_result",
          "data": {
            "text/html": [
              "<div>\n",
              "<style scoped>\n",
              "    .dataframe tbody tr th:only-of-type {\n",
              "        vertical-align: middle;\n",
              "    }\n",
              "\n",
              "    .dataframe tbody tr th {\n",
              "        vertical-align: top;\n",
              "    }\n",
              "\n",
              "    .dataframe thead th {\n",
              "        text-align: right;\n",
              "    }\n",
              "</style>\n",
              "<table border=\"1\" class=\"dataframe\">\n",
              "  <thead>\n",
              "    <tr style=\"text-align: right;\">\n",
              "      <th></th>\n",
              "      <th>pca1</th>\n",
              "      <th>pca2</th>\n",
              "      <th>pca3</th>\n",
              "      <th>pca4</th>\n",
              "    </tr>\n",
              "  </thead>\n",
              "  <tbody>\n",
              "    <tr>\n",
              "      <th>0</th>\n",
              "      <td>-0.581320</td>\n",
              "      <td>-0.348051</td>\n",
              "      <td>-0.748212</td>\n",
              "      <td>-1.200504</td>\n",
              "    </tr>\n",
              "    <tr>\n",
              "      <th>1</th>\n",
              "      <td>-0.659691</td>\n",
              "      <td>2.406933</td>\n",
              "      <td>-0.693062</td>\n",
              "      <td>-1.161818</td>\n",
              "    </tr>\n",
              "    <tr>\n",
              "      <th>2</th>\n",
              "      <td>14.219191</td>\n",
              "      <td>-0.739695</td>\n",
              "      <td>-0.679700</td>\n",
              "      <td>-0.988972</td>\n",
              "    </tr>\n",
              "    <tr>\n",
              "      <th>3</th>\n",
              "      <td>-0.554499</td>\n",
              "      <td>-0.338243</td>\n",
              "      <td>-0.747897</td>\n",
              "      <td>-1.199607</td>\n",
              "    </tr>\n",
              "    <tr>\n",
              "      <th>4</th>\n",
              "      <td>-0.013932</td>\n",
              "      <td>-0.247531</td>\n",
              "      <td>-0.743671</td>\n",
              "      <td>-1.187578</td>\n",
              "    </tr>\n",
              "  </tbody>\n",
              "</table>\n",
              "</div>"
            ],
            "text/plain": [
              "        pca1      pca2      pca3      pca4\n",
              "0  -0.581320 -0.348051 -0.748212 -1.200504\n",
              "1  -0.659691  2.406933 -0.693062 -1.161818\n",
              "2  14.219191 -0.739695 -0.679700 -0.988972\n",
              "3  -0.554499 -0.338243 -0.747897 -1.199607\n",
              "4  -0.013932 -0.247531 -0.743671 -1.187578"
            ]
          },
          "metadata": {
            "tags": []
          },
          "execution_count": 98
        }
      ]
    },
    {
      "cell_type": "code",
      "metadata": {
        "colab_type": "code",
        "id": "jG5D_fS2YJaL",
        "colab": {
          "base_uri": "https://localhost:8080/",
          "height": 34
        },
        "outputId": "43ceacbe-fb64-4320-f9bf-002467cab6b7"
      },
      "source": [
        "#fitting the regressin model using 4 component data\n",
        "#from sklearn.model_selection import train_test_split\n",
        "X_train,X_test,y_train,y_test=get_data(pdf4)\n",
        "\n",
        "rr = linear_model.Ridge(alpha=0.1) # higher the alpha value, more restriction in the coefficients; low alpha > more generalization, coefficients are barely\n",
        "# restricted and in this case linear and ridge regression resembles\n",
        "rr.fit(X_train, y_train)\n",
        "pr=rr.predict(X_test) \n",
        "acc=0\n",
        "loss=[]\n",
        "for i in range(len(pr)):\n",
        "  if(sqrt((y_test[i]-pr[i])**2)<15):\n",
        "    acc+=1\n",
        "    loss.append(y_test[i]-pr[i])\n",
        "print('Accuracy = ',(acc/(len(y_test)))*100)\n",
        "accuracy.append(acc/(len(y_test)))"
      ],
      "execution_count": null,
      "outputs": [
        {
          "output_type": "stream",
          "text": [
            "Accuracy =  86.76286418663999\n"
          ],
          "name": "stdout"
        }
      ]
    },
    {
      "cell_type": "markdown",
      "metadata": {
        "id": "x4t84btQ7pPf",
        "colab_type": "text"
      },
      "source": [
        "Using 5 components of PCA"
      ]
    },
    {
      "cell_type": "code",
      "metadata": {
        "id": "IMlNJh86ROW-",
        "colab_type": "code",
        "colab": {
          "base_uri": "https://localhost:8080/",
          "height": 203
        },
        "outputId": "21cad9d1-bf6e-4ebb-862a-ad7c4db12061"
      },
      "source": [
        "#5 components: checking performance\n",
        "from sklearn.decomposition import PCA\n",
        "pca = PCA(n_components=5)\n",
        "principalComponents = pca.fit_transform(X_std)\n",
        "pdf5 = pd.DataFrame(data = principalComponents, columns = ['pca1', 'pca2', 'pca3', 'pca4', 'pca5'])\n",
        "pdf5.head()"
      ],
      "execution_count": null,
      "outputs": [
        {
          "output_type": "execute_result",
          "data": {
            "text/html": [
              "<div>\n",
              "<style scoped>\n",
              "    .dataframe tbody tr th:only-of-type {\n",
              "        vertical-align: middle;\n",
              "    }\n",
              "\n",
              "    .dataframe tbody tr th {\n",
              "        vertical-align: top;\n",
              "    }\n",
              "\n",
              "    .dataframe thead th {\n",
              "        text-align: right;\n",
              "    }\n",
              "</style>\n",
              "<table border=\"1\" class=\"dataframe\">\n",
              "  <thead>\n",
              "    <tr style=\"text-align: right;\">\n",
              "      <th></th>\n",
              "      <th>pca1</th>\n",
              "      <th>pca2</th>\n",
              "      <th>pca3</th>\n",
              "      <th>pca4</th>\n",
              "      <th>pca5</th>\n",
              "    </tr>\n",
              "  </thead>\n",
              "  <tbody>\n",
              "    <tr>\n",
              "      <th>0</th>\n",
              "      <td>-0.581320</td>\n",
              "      <td>-0.348051</td>\n",
              "      <td>-0.748212</td>\n",
              "      <td>-1.200504</td>\n",
              "      <td>0.969347</td>\n",
              "    </tr>\n",
              "    <tr>\n",
              "      <th>1</th>\n",
              "      <td>-0.659691</td>\n",
              "      <td>2.406933</td>\n",
              "      <td>-0.693062</td>\n",
              "      <td>-1.161818</td>\n",
              "      <td>0.999166</td>\n",
              "    </tr>\n",
              "    <tr>\n",
              "      <th>2</th>\n",
              "      <td>14.219191</td>\n",
              "      <td>-0.739695</td>\n",
              "      <td>-0.679700</td>\n",
              "      <td>-0.988972</td>\n",
              "      <td>1.083161</td>\n",
              "    </tr>\n",
              "    <tr>\n",
              "      <th>3</th>\n",
              "      <td>-0.554499</td>\n",
              "      <td>-0.338243</td>\n",
              "      <td>-0.747897</td>\n",
              "      <td>-1.199607</td>\n",
              "      <td>0.969608</td>\n",
              "    </tr>\n",
              "    <tr>\n",
              "      <th>4</th>\n",
              "      <td>-0.013932</td>\n",
              "      <td>-0.247531</td>\n",
              "      <td>-0.743671</td>\n",
              "      <td>-1.187578</td>\n",
              "      <td>0.974453</td>\n",
              "    </tr>\n",
              "  </tbody>\n",
              "</table>\n",
              "</div>"
            ],
            "text/plain": [
              "        pca1      pca2      pca3      pca4      pca5\n",
              "0  -0.581320 -0.348051 -0.748212 -1.200504  0.969347\n",
              "1  -0.659691  2.406933 -0.693062 -1.161818  0.999166\n",
              "2  14.219191 -0.739695 -0.679700 -0.988972  1.083161\n",
              "3  -0.554499 -0.338243 -0.747897 -1.199607  0.969608\n",
              "4  -0.013932 -0.247531 -0.743671 -1.187578  0.974453"
            ]
          },
          "metadata": {
            "tags": []
          },
          "execution_count": 100
        }
      ]
    },
    {
      "cell_type": "code",
      "metadata": {
        "colab_type": "code",
        "id": "ZCIgHD41YNSx",
        "colab": {
          "base_uri": "https://localhost:8080/",
          "height": 34
        },
        "outputId": "4ede5868-aefa-465d-e3c2-31dac0d8b4a6"
      },
      "source": [
        "#fitting the regressin model using 5 component data\n",
        "#from sklearn.model_selection import train_test_split\n",
        "\n",
        "X_train,X_test,y_train,y_test=get_data(pdf5)\n",
        "\n",
        "rr = linear_model.Ridge(alpha=0.1) # higher the alpha value, more restriction in the coefficients; low alpha > more generalization, coefficients are barely\n",
        "# restricted and in this case linear and ridge regression resembles\n",
        "rr.fit(X_train, y_train)\n",
        "pr=rr.predict(X_test) \n",
        "acc=0\n",
        "loss=[]\n",
        "for i in range(len(pr)):\n",
        "  if(sqrt((y_test[i]-pr[i])**2)<15):\n",
        "    acc+=1\n",
        "    loss.append(y_test[i]-pr[i])\n",
        "print('Accuracy = ',(acc/(len(y_test)))*100)\n",
        "accuracy.append(acc/(len(y_test)))"
      ],
      "execution_count": null,
      "outputs": [
        {
          "output_type": "stream",
          "text": [
            "Accuracy =  90.34309748662976\n"
          ],
          "name": "stdout"
        }
      ]
    },
    {
      "cell_type": "markdown",
      "metadata": {
        "id": "ecL6rPnI7iZX",
        "colab_type": "text"
      },
      "source": [
        "Using 6 components of PCA"
      ]
    },
    {
      "cell_type": "code",
      "metadata": {
        "id": "0Y1K1m-WSqM1",
        "colab_type": "code",
        "colab": {
          "base_uri": "https://localhost:8080/",
          "height": 203
        },
        "outputId": "4643d9ea-f3b0-4d46-f5db-ddeff2349e65"
      },
      "source": [
        "#6 components: checking performance\n",
        "from sklearn.decomposition import PCA\n",
        "pca = PCA(n_components=6)\n",
        "principalComponents = pca.fit_transform(X_std)\n",
        "pdf6 = pd.DataFrame(data = principalComponents, columns = ['pca1', 'pca2', 'pca3', 'pca4', 'pca5', 'pca6'])\n",
        "pdf6.head()"
      ],
      "execution_count": null,
      "outputs": [
        {
          "output_type": "execute_result",
          "data": {
            "text/html": [
              "<div>\n",
              "<style scoped>\n",
              "    .dataframe tbody tr th:only-of-type {\n",
              "        vertical-align: middle;\n",
              "    }\n",
              "\n",
              "    .dataframe tbody tr th {\n",
              "        vertical-align: top;\n",
              "    }\n",
              "\n",
              "    .dataframe thead th {\n",
              "        text-align: right;\n",
              "    }\n",
              "</style>\n",
              "<table border=\"1\" class=\"dataframe\">\n",
              "  <thead>\n",
              "    <tr style=\"text-align: right;\">\n",
              "      <th></th>\n",
              "      <th>pca1</th>\n",
              "      <th>pca2</th>\n",
              "      <th>pca3</th>\n",
              "      <th>pca4</th>\n",
              "      <th>pca5</th>\n",
              "      <th>pca6</th>\n",
              "    </tr>\n",
              "  </thead>\n",
              "  <tbody>\n",
              "    <tr>\n",
              "      <th>0</th>\n",
              "      <td>-0.581320</td>\n",
              "      <td>-0.348051</td>\n",
              "      <td>-0.748212</td>\n",
              "      <td>-1.200504</td>\n",
              "      <td>0.969347</td>\n",
              "      <td>-0.001646</td>\n",
              "    </tr>\n",
              "    <tr>\n",
              "      <th>1</th>\n",
              "      <td>-0.659691</td>\n",
              "      <td>2.406933</td>\n",
              "      <td>-0.693062</td>\n",
              "      <td>-1.161818</td>\n",
              "      <td>0.999166</td>\n",
              "      <td>4.155136</td>\n",
              "    </tr>\n",
              "    <tr>\n",
              "      <th>2</th>\n",
              "      <td>14.219191</td>\n",
              "      <td>-0.739695</td>\n",
              "      <td>-0.679700</td>\n",
              "      <td>-0.988972</td>\n",
              "      <td>1.083161</td>\n",
              "      <td>0.397339</td>\n",
              "    </tr>\n",
              "    <tr>\n",
              "      <th>3</th>\n",
              "      <td>-0.554499</td>\n",
              "      <td>-0.338243</td>\n",
              "      <td>-0.747897</td>\n",
              "      <td>-1.199607</td>\n",
              "      <td>0.969608</td>\n",
              "      <td>-0.006097</td>\n",
              "    </tr>\n",
              "    <tr>\n",
              "      <th>4</th>\n",
              "      <td>-0.013932</td>\n",
              "      <td>-0.247531</td>\n",
              "      <td>-0.743671</td>\n",
              "      <td>-1.187578</td>\n",
              "      <td>0.974453</td>\n",
              "      <td>-0.032901</td>\n",
              "    </tr>\n",
              "  </tbody>\n",
              "</table>\n",
              "</div>"
            ],
            "text/plain": [
              "        pca1      pca2      pca3      pca4      pca5      pca6\n",
              "0  -0.581320 -0.348051 -0.748212 -1.200504  0.969347 -0.001646\n",
              "1  -0.659691  2.406933 -0.693062 -1.161818  0.999166  4.155136\n",
              "2  14.219191 -0.739695 -0.679700 -0.988972  1.083161  0.397339\n",
              "3  -0.554499 -0.338243 -0.747897 -1.199607  0.969608 -0.006097\n",
              "4  -0.013932 -0.247531 -0.743671 -1.187578  0.974453 -0.032901"
            ]
          },
          "metadata": {
            "tags": []
          },
          "execution_count": 102
        }
      ]
    },
    {
      "cell_type": "code",
      "metadata": {
        "id": "KAuRXqc9UzvK",
        "colab_type": "code",
        "colab": {
          "base_uri": "https://localhost:8080/",
          "height": 34
        },
        "outputId": "b7148c81-d409-470e-f22d-89f5f817f1a5"
      },
      "source": [
        "#fitting the regressin model using the 6 component data\n",
        "#from sklearn.model_selection import train_test_split\n",
        "\n",
        "X_train,X_test,y_train,y_test=get_data(pdf6)\n",
        "\n",
        "rr = linear_model.Ridge(alpha=0.1) # higher the alpha value, more restriction in the coefficients; low alpha > more generalization, coefficients are barely\n",
        "# restricted and in this case linear and ridge regression resembles\n",
        "rr.fit(X_train, y_train)\n",
        "pr=rr.predict(X_test) \n",
        "acc=0\n",
        "loss=[]\n",
        "for i in range(len(pr)):\n",
        "  if(sqrt((y_test[i]-pr[i])**2)<15):\n",
        "    acc+=1\n",
        "    loss.append(y_test[i]-pr[i])\n",
        "print('Accuracy = ',(acc/(len(y_test)))*100)\n",
        "accuracy.append(acc/(len(y_test)))"
      ],
      "execution_count": null,
      "outputs": [
        {
          "output_type": "stream",
          "text": [
            "Accuracy =  94.36401729665015\n"
          ],
          "name": "stdout"
        }
      ]
    },
    {
      "cell_type": "markdown",
      "metadata": {
        "id": "AEi8h5uDZg0s",
        "colab_type": "text"
      },
      "source": [
        "Using 7 components of PCA"
      ]
    },
    {
      "cell_type": "code",
      "metadata": {
        "colab_type": "code",
        "id": "CGq4296oZX6p",
        "colab": {
          "base_uri": "https://localhost:8080/",
          "height": 203
        },
        "outputId": "8f983534-2b75-4125-a4d8-299ac55582ca"
      },
      "source": [
        "#6 components: checking performance\n",
        "from sklearn.decomposition import PCA\n",
        "pca = PCA(n_components=7)\n",
        "principalComponents = pca.fit_transform(X_std)\n",
        "pdf7 = pd.DataFrame(data = principalComponents, columns = ['pca1', 'pca2', 'pca3', 'pca4', 'pca5', 'pca6', 'pca7'])\n",
        "pdf7.head()"
      ],
      "execution_count": null,
      "outputs": [
        {
          "output_type": "execute_result",
          "data": {
            "text/html": [
              "<div>\n",
              "<style scoped>\n",
              "    .dataframe tbody tr th:only-of-type {\n",
              "        vertical-align: middle;\n",
              "    }\n",
              "\n",
              "    .dataframe tbody tr th {\n",
              "        vertical-align: top;\n",
              "    }\n",
              "\n",
              "    .dataframe thead th {\n",
              "        text-align: right;\n",
              "    }\n",
              "</style>\n",
              "<table border=\"1\" class=\"dataframe\">\n",
              "  <thead>\n",
              "    <tr style=\"text-align: right;\">\n",
              "      <th></th>\n",
              "      <th>pca1</th>\n",
              "      <th>pca2</th>\n",
              "      <th>pca3</th>\n",
              "      <th>pca4</th>\n",
              "      <th>pca5</th>\n",
              "      <th>pca6</th>\n",
              "      <th>pca7</th>\n",
              "    </tr>\n",
              "  </thead>\n",
              "  <tbody>\n",
              "    <tr>\n",
              "      <th>0</th>\n",
              "      <td>-0.581320</td>\n",
              "      <td>-0.348051</td>\n",
              "      <td>-0.748212</td>\n",
              "      <td>-1.200504</td>\n",
              "      <td>0.969347</td>\n",
              "      <td>-0.001646</td>\n",
              "      <td>0.072133</td>\n",
              "    </tr>\n",
              "    <tr>\n",
              "      <th>1</th>\n",
              "      <td>-0.659691</td>\n",
              "      <td>2.406933</td>\n",
              "      <td>-0.693062</td>\n",
              "      <td>-1.161818</td>\n",
              "      <td>0.999166</td>\n",
              "      <td>4.155136</td>\n",
              "      <td>-0.018139</td>\n",
              "    </tr>\n",
              "    <tr>\n",
              "      <th>2</th>\n",
              "      <td>14.219191</td>\n",
              "      <td>-0.739695</td>\n",
              "      <td>-0.679700</td>\n",
              "      <td>-0.988972</td>\n",
              "      <td>1.083161</td>\n",
              "      <td>0.397339</td>\n",
              "      <td>-0.093075</td>\n",
              "    </tr>\n",
              "    <tr>\n",
              "      <th>3</th>\n",
              "      <td>-0.554499</td>\n",
              "      <td>-0.338243</td>\n",
              "      <td>-0.747897</td>\n",
              "      <td>-1.199607</td>\n",
              "      <td>0.969608</td>\n",
              "      <td>-0.006097</td>\n",
              "      <td>0.061341</td>\n",
              "    </tr>\n",
              "    <tr>\n",
              "      <th>4</th>\n",
              "      <td>-0.013932</td>\n",
              "      <td>-0.247531</td>\n",
              "      <td>-0.743671</td>\n",
              "      <td>-1.187578</td>\n",
              "      <td>0.974453</td>\n",
              "      <td>-0.032901</td>\n",
              "      <td>0.033146</td>\n",
              "    </tr>\n",
              "  </tbody>\n",
              "</table>\n",
              "</div>"
            ],
            "text/plain": [
              "        pca1      pca2      pca3      pca4      pca5      pca6      pca7\n",
              "0  -0.581320 -0.348051 -0.748212 -1.200504  0.969347 -0.001646  0.072133\n",
              "1  -0.659691  2.406933 -0.693062 -1.161818  0.999166  4.155136 -0.018139\n",
              "2  14.219191 -0.739695 -0.679700 -0.988972  1.083161  0.397339 -0.093075\n",
              "3  -0.554499 -0.338243 -0.747897 -1.199607  0.969608 -0.006097  0.061341\n",
              "4  -0.013932 -0.247531 -0.743671 -1.187578  0.974453 -0.032901  0.033146"
            ]
          },
          "metadata": {
            "tags": []
          },
          "execution_count": 104
        }
      ]
    },
    {
      "cell_type": "code",
      "metadata": {
        "colab_type": "code",
        "id": "aV4w4c_NZX6y",
        "colab": {
          "base_uri": "https://localhost:8080/",
          "height": 34
        },
        "outputId": "bf15f6e8-e92a-44f7-bf87-d75af9fe84db"
      },
      "source": [
        "#fitting the regressin model using the 7 component data\n",
        "#from sklearn.model_selection import train_test_split\n",
        "\n",
        "X_train,X_test,y_train,y_test=get_data(pdf7)\n",
        "\n",
        "rr = linear_model.Ridge(alpha=0.1) # higher the alpha value, more restriction in the coefficients; low alpha > more generalization, coefficients are barely\n",
        "# restricted and in this case linear and ridge regression resembles\n",
        "rr.fit(X_train, y_train)\n",
        "pr=rr.predict(X_test) \n",
        "acc=0\n",
        "loss=[]\n",
        "for i in range(len(pr)):\n",
        "  if(sqrt((y_test[i]-pr[i])**2)<15):\n",
        "    acc+=1\n",
        "    loss.append(y_test[i]-pr[i])\n",
        "print('Accuracy = ',(acc/(len(y_test)))*100)\n",
        "accuracy.append(acc/(len(y_test)))"
      ],
      "execution_count": null,
      "outputs": [
        {
          "output_type": "stream",
          "text": [
            "Accuracy =  95.19970699663676\n"
          ],
          "name": "stdout"
        }
      ]
    },
    {
      "cell_type": "markdown",
      "metadata": {
        "id": "gy0z_-9jZpeu",
        "colab_type": "text"
      },
      "source": [
        "Using 8 components of PCA"
      ]
    },
    {
      "cell_type": "code",
      "metadata": {
        "colab_type": "code",
        "id": "pVkM4ZH1ZaM5",
        "colab": {
          "base_uri": "https://localhost:8080/",
          "height": 203
        },
        "outputId": "cf324e25-628d-4984-8e0c-058e84735f25"
      },
      "source": [
        "#6 components: checking performance\n",
        "from sklearn.decomposition import PCA\n",
        "pca = PCA(n_components=8)\n",
        "principalComponents = pca.fit_transform(X_std)\n",
        "pdf8 = pd.DataFrame(data = principalComponents, columns = ['pca1', 'pca2', 'pca3', 'pca4', 'pca5', 'pca6', 'pca7', 'pca8'])\n",
        "pdf8.head()"
      ],
      "execution_count": null,
      "outputs": [
        {
          "output_type": "execute_result",
          "data": {
            "text/html": [
              "<div>\n",
              "<style scoped>\n",
              "    .dataframe tbody tr th:only-of-type {\n",
              "        vertical-align: middle;\n",
              "    }\n",
              "\n",
              "    .dataframe tbody tr th {\n",
              "        vertical-align: top;\n",
              "    }\n",
              "\n",
              "    .dataframe thead th {\n",
              "        text-align: right;\n",
              "    }\n",
              "</style>\n",
              "<table border=\"1\" class=\"dataframe\">\n",
              "  <thead>\n",
              "    <tr style=\"text-align: right;\">\n",
              "      <th></th>\n",
              "      <th>pca1</th>\n",
              "      <th>pca2</th>\n",
              "      <th>pca3</th>\n",
              "      <th>pca4</th>\n",
              "      <th>pca5</th>\n",
              "      <th>pca6</th>\n",
              "      <th>pca7</th>\n",
              "      <th>pca8</th>\n",
              "    </tr>\n",
              "  </thead>\n",
              "  <tbody>\n",
              "    <tr>\n",
              "      <th>0</th>\n",
              "      <td>-0.581320</td>\n",
              "      <td>-0.348051</td>\n",
              "      <td>-0.748212</td>\n",
              "      <td>-1.200504</td>\n",
              "      <td>0.969347</td>\n",
              "      <td>-0.001646</td>\n",
              "      <td>0.072133</td>\n",
              "      <td>0.000258</td>\n",
              "    </tr>\n",
              "    <tr>\n",
              "      <th>1</th>\n",
              "      <td>-0.659691</td>\n",
              "      <td>2.406933</td>\n",
              "      <td>-0.693062</td>\n",
              "      <td>-1.161818</td>\n",
              "      <td>0.999166</td>\n",
              "      <td>4.155136</td>\n",
              "      <td>-0.018139</td>\n",
              "      <td>0.000492</td>\n",
              "    </tr>\n",
              "    <tr>\n",
              "      <th>2</th>\n",
              "      <td>14.219191</td>\n",
              "      <td>-0.739695</td>\n",
              "      <td>-0.679700</td>\n",
              "      <td>-0.988972</td>\n",
              "      <td>1.083161</td>\n",
              "      <td>0.397339</td>\n",
              "      <td>-0.093075</td>\n",
              "      <td>-0.101287</td>\n",
              "    </tr>\n",
              "    <tr>\n",
              "      <th>3</th>\n",
              "      <td>-0.554499</td>\n",
              "      <td>-0.338243</td>\n",
              "      <td>-0.747897</td>\n",
              "      <td>-1.199607</td>\n",
              "      <td>0.969608</td>\n",
              "      <td>-0.006097</td>\n",
              "      <td>0.061341</td>\n",
              "      <td>0.000339</td>\n",
              "    </tr>\n",
              "    <tr>\n",
              "      <th>4</th>\n",
              "      <td>-0.013932</td>\n",
              "      <td>-0.247531</td>\n",
              "      <td>-0.743671</td>\n",
              "      <td>-1.187578</td>\n",
              "      <td>0.974453</td>\n",
              "      <td>-0.032901</td>\n",
              "      <td>0.033146</td>\n",
              "      <td>-0.003629</td>\n",
              "    </tr>\n",
              "  </tbody>\n",
              "</table>\n",
              "</div>"
            ],
            "text/plain": [
              "        pca1      pca2      pca3  ...      pca6      pca7      pca8\n",
              "0  -0.581320 -0.348051 -0.748212  ... -0.001646  0.072133  0.000258\n",
              "1  -0.659691  2.406933 -0.693062  ...  4.155136 -0.018139  0.000492\n",
              "2  14.219191 -0.739695 -0.679700  ...  0.397339 -0.093075 -0.101287\n",
              "3  -0.554499 -0.338243 -0.747897  ... -0.006097  0.061341  0.000339\n",
              "4  -0.013932 -0.247531 -0.743671  ... -0.032901  0.033146 -0.003629\n",
              "\n",
              "[5 rows x 8 columns]"
            ]
          },
          "metadata": {
            "tags": []
          },
          "execution_count": 106
        }
      ]
    },
    {
      "cell_type": "code",
      "metadata": {
        "colab_type": "code",
        "id": "dYPxBvrIZaNC",
        "colab": {
          "base_uri": "https://localhost:8080/",
          "height": 34
        },
        "outputId": "b53839b7-951e-4210-e4c0-08190255c1fc"
      },
      "source": [
        "#fitting the regressin model using the 8 component data\n",
        "#from sklearn.model_selection import train_test_split\n",
        "\n",
        "X_train,X_test,y_train,y_test=get_data(pdf8)\n",
        "\n",
        "rr = linear_model.Ridge(alpha=0.1) # higher the alpha value, more restriction in the coefficients; low alpha > more generalization, coefficients are barely\n",
        "# restricted and in this case linear and ridge regression resembles\n",
        "rr.fit(X_train, y_train)\n",
        "pr=rr.predict(X_test) \n",
        "acc=0\n",
        "loss=[]\n",
        "for i in range(len(pr)):\n",
        "  if(sqrt((y_test[i]-pr[i])**2)<15):\n",
        "    acc+=1\n",
        "    loss.append(y_test[i]-pr[i])\n",
        "print('Accuracy = ',(acc/(len(y_test)))*100)\n",
        "accuracy.append(acc/(len(y_test)))"
      ],
      "execution_count": null,
      "outputs": [
        {
          "output_type": "stream",
          "text": [
            "Accuracy =  96.30634604327312\n"
          ],
          "name": "stdout"
        }
      ]
    },
    {
      "cell_type": "markdown",
      "metadata": {
        "id": "p7qDSxSUZ3wg",
        "colab_type": "text"
      },
      "source": [
        "Using 9 components of PCA"
      ]
    },
    {
      "cell_type": "code",
      "metadata": {
        "colab_type": "code",
        "id": "0aoCSLDoZdla",
        "colab": {
          "base_uri": "https://localhost:8080/",
          "height": 203
        },
        "outputId": "b54fd840-ddb3-4cb3-a37b-344ecf81e669"
      },
      "source": [
        "#6 components: checking performance\n",
        "from sklearn.decomposition import PCA\n",
        "pca = PCA(n_components=9)\n",
        "principalComponents = pca.fit_transform(X_std)\n",
        "pdf9 = pd.DataFrame(data = principalComponents, columns = ['pca1', 'pca2', 'pca3', 'pca4', 'pca5', 'pca6', 'pca7', 'pca8', 'pca9'])\n",
        "pdf9.head()"
      ],
      "execution_count": null,
      "outputs": [
        {
          "output_type": "execute_result",
          "data": {
            "text/html": [
              "<div>\n",
              "<style scoped>\n",
              "    .dataframe tbody tr th:only-of-type {\n",
              "        vertical-align: middle;\n",
              "    }\n",
              "\n",
              "    .dataframe tbody tr th {\n",
              "        vertical-align: top;\n",
              "    }\n",
              "\n",
              "    .dataframe thead th {\n",
              "        text-align: right;\n",
              "    }\n",
              "</style>\n",
              "<table border=\"1\" class=\"dataframe\">\n",
              "  <thead>\n",
              "    <tr style=\"text-align: right;\">\n",
              "      <th></th>\n",
              "      <th>pca1</th>\n",
              "      <th>pca2</th>\n",
              "      <th>pca3</th>\n",
              "      <th>pca4</th>\n",
              "      <th>pca5</th>\n",
              "      <th>pca6</th>\n",
              "      <th>pca7</th>\n",
              "      <th>pca8</th>\n",
              "      <th>pca9</th>\n",
              "    </tr>\n",
              "  </thead>\n",
              "  <tbody>\n",
              "    <tr>\n",
              "      <th>0</th>\n",
              "      <td>-0.581320</td>\n",
              "      <td>-0.348051</td>\n",
              "      <td>-0.748212</td>\n",
              "      <td>-1.200504</td>\n",
              "      <td>0.969347</td>\n",
              "      <td>-0.001646</td>\n",
              "      <td>0.072133</td>\n",
              "      <td>0.000258</td>\n",
              "      <td>-0.000167</td>\n",
              "    </tr>\n",
              "    <tr>\n",
              "      <th>1</th>\n",
              "      <td>-0.659691</td>\n",
              "      <td>2.406933</td>\n",
              "      <td>-0.693062</td>\n",
              "      <td>-1.161818</td>\n",
              "      <td>0.999166</td>\n",
              "      <td>4.155136</td>\n",
              "      <td>-0.018139</td>\n",
              "      <td>0.000492</td>\n",
              "      <td>-0.000781</td>\n",
              "    </tr>\n",
              "    <tr>\n",
              "      <th>2</th>\n",
              "      <td>14.219191</td>\n",
              "      <td>-0.739695</td>\n",
              "      <td>-0.679700</td>\n",
              "      <td>-0.988972</td>\n",
              "      <td>1.083161</td>\n",
              "      <td>0.397339</td>\n",
              "      <td>-0.093075</td>\n",
              "      <td>-0.101287</td>\n",
              "      <td>-0.014463</td>\n",
              "    </tr>\n",
              "    <tr>\n",
              "      <th>3</th>\n",
              "      <td>-0.554499</td>\n",
              "      <td>-0.338243</td>\n",
              "      <td>-0.747897</td>\n",
              "      <td>-1.199607</td>\n",
              "      <td>0.969608</td>\n",
              "      <td>-0.006097</td>\n",
              "      <td>0.061341</td>\n",
              "      <td>0.000339</td>\n",
              "      <td>-0.000187</td>\n",
              "    </tr>\n",
              "    <tr>\n",
              "      <th>4</th>\n",
              "      <td>-0.013932</td>\n",
              "      <td>-0.247531</td>\n",
              "      <td>-0.743671</td>\n",
              "      <td>-1.187578</td>\n",
              "      <td>0.974453</td>\n",
              "      <td>-0.032901</td>\n",
              "      <td>0.033146</td>\n",
              "      <td>-0.003629</td>\n",
              "      <td>0.003031</td>\n",
              "    </tr>\n",
              "  </tbody>\n",
              "</table>\n",
              "</div>"
            ],
            "text/plain": [
              "        pca1      pca2      pca3  ...      pca7      pca8      pca9\n",
              "0  -0.581320 -0.348051 -0.748212  ...  0.072133  0.000258 -0.000167\n",
              "1  -0.659691  2.406933 -0.693062  ... -0.018139  0.000492 -0.000781\n",
              "2  14.219191 -0.739695 -0.679700  ... -0.093075 -0.101287 -0.014463\n",
              "3  -0.554499 -0.338243 -0.747897  ...  0.061341  0.000339 -0.000187\n",
              "4  -0.013932 -0.247531 -0.743671  ...  0.033146 -0.003629  0.003031\n",
              "\n",
              "[5 rows x 9 columns]"
            ]
          },
          "metadata": {
            "tags": []
          },
          "execution_count": 108
        }
      ]
    },
    {
      "cell_type": "code",
      "metadata": {
        "colab_type": "code",
        "id": "z9Tdc2oWZdlg",
        "colab": {
          "base_uri": "https://localhost:8080/",
          "height": 34
        },
        "outputId": "e0239cef-1364-42d9-a839-0a3bcea41e2c"
      },
      "source": [
        "#fitting the regressin model using the 9 component data\n",
        "#from sklearn.model_selection import train_test_split\n",
        "\n",
        "X_train,X_test,y_train,y_test=get_data(pdf9)\n",
        "\n",
        "rr = linear_model.Ridge(alpha=0.1) # higher the alpha value, more restriction in the coefficients; low alpha > more generalization, coefficients are barely\n",
        "# restricted and in this case linear and ridge regression resembles\n",
        "rr.fit(X_train, y_train)\n",
        "pr=rr.predict(X_test) \n",
        "acc=0\n",
        "loss=[]\n",
        "for i in range(len(pr)):\n",
        "  if(sqrt((y_test[i]-pr[i])**2)<15):\n",
        "    acc+=1\n",
        "    loss.append(y_test[i]-pr[i])\n",
        "print('Accuracy = ',(acc/(len(y_test)))*100)\n",
        "accuracy.append(acc/(len(y_test)))"
      ],
      "execution_count": null,
      "outputs": [
        {
          "output_type": "stream",
          "text": [
            "Accuracy =  97.59020486606124\n"
          ],
          "name": "stdout"
        }
      ]
    },
    {
      "cell_type": "markdown",
      "metadata": {
        "id": "EcIC5Q_IZ6bc",
        "colab_type": "text"
      },
      "source": [
        "Using 10 components of PCA"
      ]
    },
    {
      "cell_type": "code",
      "metadata": {
        "colab_type": "code",
        "id": "1of2qpbfZeqt",
        "colab": {
          "base_uri": "https://localhost:8080/",
          "height": 203
        },
        "outputId": "3483613b-3b1d-4a63-b8df-630934c5596d"
      },
      "source": [
        "#6 components: checking performance\n",
        "from sklearn.decomposition import PCA\n",
        "pca = PCA(n_components=10)\n",
        "principalComponents = pca.fit_transform(X_std)\n",
        "pdf10 = pd.DataFrame(data = principalComponents, columns = ['pca1', 'pca2', 'pca3', 'pca4', 'pca5', 'pca6', 'pca7', 'pca8', 'pca9', 'pca10'])\n",
        "pdf10.head()"
      ],
      "execution_count": null,
      "outputs": [
        {
          "output_type": "execute_result",
          "data": {
            "text/html": [
              "<div>\n",
              "<style scoped>\n",
              "    .dataframe tbody tr th:only-of-type {\n",
              "        vertical-align: middle;\n",
              "    }\n",
              "\n",
              "    .dataframe tbody tr th {\n",
              "        vertical-align: top;\n",
              "    }\n",
              "\n",
              "    .dataframe thead th {\n",
              "        text-align: right;\n",
              "    }\n",
              "</style>\n",
              "<table border=\"1\" class=\"dataframe\">\n",
              "  <thead>\n",
              "    <tr style=\"text-align: right;\">\n",
              "      <th></th>\n",
              "      <th>pca1</th>\n",
              "      <th>pca2</th>\n",
              "      <th>pca3</th>\n",
              "      <th>pca4</th>\n",
              "      <th>pca5</th>\n",
              "      <th>pca6</th>\n",
              "      <th>pca7</th>\n",
              "      <th>pca8</th>\n",
              "      <th>pca9</th>\n",
              "      <th>pca10</th>\n",
              "    </tr>\n",
              "  </thead>\n",
              "  <tbody>\n",
              "    <tr>\n",
              "      <th>0</th>\n",
              "      <td>-0.581320</td>\n",
              "      <td>-0.348051</td>\n",
              "      <td>-0.748212</td>\n",
              "      <td>-1.200504</td>\n",
              "      <td>0.969347</td>\n",
              "      <td>-0.001646</td>\n",
              "      <td>0.072133</td>\n",
              "      <td>0.000258</td>\n",
              "      <td>-0.000167</td>\n",
              "      <td>-0.000153</td>\n",
              "    </tr>\n",
              "    <tr>\n",
              "      <th>1</th>\n",
              "      <td>-0.659691</td>\n",
              "      <td>2.406933</td>\n",
              "      <td>-0.693062</td>\n",
              "      <td>-1.161818</td>\n",
              "      <td>0.999166</td>\n",
              "      <td>4.155136</td>\n",
              "      <td>-0.018139</td>\n",
              "      <td>0.000492</td>\n",
              "      <td>-0.000781</td>\n",
              "      <td>0.001319</td>\n",
              "    </tr>\n",
              "    <tr>\n",
              "      <th>2</th>\n",
              "      <td>14.219191</td>\n",
              "      <td>-0.739695</td>\n",
              "      <td>-0.679700</td>\n",
              "      <td>-0.988972</td>\n",
              "      <td>1.083161</td>\n",
              "      <td>0.397339</td>\n",
              "      <td>-0.093075</td>\n",
              "      <td>-0.101287</td>\n",
              "      <td>-0.014463</td>\n",
              "      <td>0.086478</td>\n",
              "    </tr>\n",
              "    <tr>\n",
              "      <th>3</th>\n",
              "      <td>-0.554499</td>\n",
              "      <td>-0.338243</td>\n",
              "      <td>-0.747897</td>\n",
              "      <td>-1.199607</td>\n",
              "      <td>0.969608</td>\n",
              "      <td>-0.006097</td>\n",
              "      <td>0.061341</td>\n",
              "      <td>0.000339</td>\n",
              "      <td>-0.000187</td>\n",
              "      <td>-0.000380</td>\n",
              "    </tr>\n",
              "    <tr>\n",
              "      <th>4</th>\n",
              "      <td>-0.013932</td>\n",
              "      <td>-0.247531</td>\n",
              "      <td>-0.743671</td>\n",
              "      <td>-1.187578</td>\n",
              "      <td>0.974453</td>\n",
              "      <td>-0.032901</td>\n",
              "      <td>0.033146</td>\n",
              "      <td>-0.003629</td>\n",
              "      <td>0.003031</td>\n",
              "      <td>0.000595</td>\n",
              "    </tr>\n",
              "  </tbody>\n",
              "</table>\n",
              "</div>"
            ],
            "text/plain": [
              "        pca1      pca2      pca3  ...      pca8      pca9     pca10\n",
              "0  -0.581320 -0.348051 -0.748212  ...  0.000258 -0.000167 -0.000153\n",
              "1  -0.659691  2.406933 -0.693062  ...  0.000492 -0.000781  0.001319\n",
              "2  14.219191 -0.739695 -0.679700  ... -0.101287 -0.014463  0.086478\n",
              "3  -0.554499 -0.338243 -0.747897  ...  0.000339 -0.000187 -0.000380\n",
              "4  -0.013932 -0.247531 -0.743671  ... -0.003629  0.003031  0.000595\n",
              "\n",
              "[5 rows x 10 columns]"
            ]
          },
          "metadata": {
            "tags": []
          },
          "execution_count": 110
        }
      ]
    },
    {
      "cell_type": "code",
      "metadata": {
        "colab_type": "code",
        "id": "L-GroL3sZeq2",
        "colab": {
          "base_uri": "https://localhost:8080/",
          "height": 34
        },
        "outputId": "8416dd94-ee48-485e-c60e-34d6e68d64d0"
      },
      "source": [
        "#fitting the regressin model using the 10 component data\n",
        "#from sklearn.model_selection import train_test_split\n",
        "\n",
        "X_train,X_test,y_train,y_test=get_data(pdf10)\n",
        "\n",
        "\n",
        "rr = linear_model.Ridge(alpha=0.1) # higher the alpha value, more restriction in the coefficients; low alpha > more generalization, coefficients are barely\n",
        "# restricted and in this case linear and ridge regression resembles\n",
        "rr.fit(X_train, y_train)\n",
        "pr=rr.predict(X_test) \n",
        "acc=0\n",
        "loss=[]\n",
        "for i in range(len(pr)):\n",
        "  if(sqrt((y_test[i]-pr[i])**2)<15):\n",
        "    acc+=1\n",
        "    loss.append(y_test[i]-pr[i])\n",
        "print('Accuracy = ',(acc/(len(y_test)))*100)\n",
        "accuracy.append(acc/(len(y_test)))"
      ],
      "execution_count": null,
      "outputs": [
        {
          "output_type": "stream",
          "text": [
            "Accuracy =  97.5846913619143\n"
          ],
          "name": "stdout"
        }
      ]
    },
    {
      "cell_type": "markdown",
      "metadata": {
        "colab_type": "text",
        "id": "fKKaRCOnbc0z"
      },
      "source": [
        "Using 11 components of PCA\n"
      ]
    },
    {
      "cell_type": "code",
      "metadata": {
        "colab_type": "code",
        "id": "iR4vTiCObc06",
        "colab": {
          "base_uri": "https://localhost:8080/",
          "height": 203
        },
        "outputId": "fca0dd1d-d120-488f-84ad-bc0313367be1"
      },
      "source": [
        "#6 components: checking performance\n",
        "from sklearn.decomposition import PCA\n",
        "pca = PCA(n_components=11)\n",
        "principalComponents = pca.fit_transform(X_std)\n",
        "pdf11 = pd.DataFrame(data = principalComponents, columns = ['pca1', 'pca2', 'pca3', 'pca4', 'pca5', 'pca6', 'pca7', 'pca8', 'pca9', 'pca10', 'pca11'])\n",
        "pdf11.head()"
      ],
      "execution_count": null,
      "outputs": [
        {
          "output_type": "execute_result",
          "data": {
            "text/html": [
              "<div>\n",
              "<style scoped>\n",
              "    .dataframe tbody tr th:only-of-type {\n",
              "        vertical-align: middle;\n",
              "    }\n",
              "\n",
              "    .dataframe tbody tr th {\n",
              "        vertical-align: top;\n",
              "    }\n",
              "\n",
              "    .dataframe thead th {\n",
              "        text-align: right;\n",
              "    }\n",
              "</style>\n",
              "<table border=\"1\" class=\"dataframe\">\n",
              "  <thead>\n",
              "    <tr style=\"text-align: right;\">\n",
              "      <th></th>\n",
              "      <th>pca1</th>\n",
              "      <th>pca2</th>\n",
              "      <th>pca3</th>\n",
              "      <th>pca4</th>\n",
              "      <th>pca5</th>\n",
              "      <th>pca6</th>\n",
              "      <th>pca7</th>\n",
              "      <th>pca8</th>\n",
              "      <th>pca9</th>\n",
              "      <th>pca10</th>\n",
              "      <th>pca11</th>\n",
              "    </tr>\n",
              "  </thead>\n",
              "  <tbody>\n",
              "    <tr>\n",
              "      <th>0</th>\n",
              "      <td>-0.581320</td>\n",
              "      <td>-0.348051</td>\n",
              "      <td>-0.748212</td>\n",
              "      <td>-1.200504</td>\n",
              "      <td>0.969347</td>\n",
              "      <td>-0.001646</td>\n",
              "      <td>0.072133</td>\n",
              "      <td>0.000258</td>\n",
              "      <td>-0.000167</td>\n",
              "      <td>-0.000153</td>\n",
              "      <td>0.000541</td>\n",
              "    </tr>\n",
              "    <tr>\n",
              "      <th>1</th>\n",
              "      <td>-0.659691</td>\n",
              "      <td>2.406933</td>\n",
              "      <td>-0.693062</td>\n",
              "      <td>-1.161818</td>\n",
              "      <td>0.999166</td>\n",
              "      <td>4.155136</td>\n",
              "      <td>-0.018139</td>\n",
              "      <td>0.000492</td>\n",
              "      <td>-0.000781</td>\n",
              "      <td>0.001319</td>\n",
              "      <td>0.000003</td>\n",
              "    </tr>\n",
              "    <tr>\n",
              "      <th>2</th>\n",
              "      <td>14.219191</td>\n",
              "      <td>-0.739695</td>\n",
              "      <td>-0.679700</td>\n",
              "      <td>-0.988972</td>\n",
              "      <td>1.083161</td>\n",
              "      <td>0.397339</td>\n",
              "      <td>-0.093075</td>\n",
              "      <td>-0.101287</td>\n",
              "      <td>-0.014463</td>\n",
              "      <td>0.086478</td>\n",
              "      <td>0.095324</td>\n",
              "    </tr>\n",
              "    <tr>\n",
              "      <th>3</th>\n",
              "      <td>-0.554499</td>\n",
              "      <td>-0.338243</td>\n",
              "      <td>-0.747897</td>\n",
              "      <td>-1.199607</td>\n",
              "      <td>0.969608</td>\n",
              "      <td>-0.006097</td>\n",
              "      <td>0.061341</td>\n",
              "      <td>0.000339</td>\n",
              "      <td>-0.000187</td>\n",
              "      <td>-0.000380</td>\n",
              "      <td>0.000147</td>\n",
              "    </tr>\n",
              "    <tr>\n",
              "      <th>4</th>\n",
              "      <td>-0.013932</td>\n",
              "      <td>-0.247531</td>\n",
              "      <td>-0.743671</td>\n",
              "      <td>-1.187578</td>\n",
              "      <td>0.974453</td>\n",
              "      <td>-0.032901</td>\n",
              "      <td>0.033146</td>\n",
              "      <td>-0.003629</td>\n",
              "      <td>0.003031</td>\n",
              "      <td>0.000595</td>\n",
              "      <td>0.000770</td>\n",
              "    </tr>\n",
              "  </tbody>\n",
              "</table>\n",
              "</div>"
            ],
            "text/plain": [
              "        pca1      pca2      pca3  ...      pca9     pca10     pca11\n",
              "0  -0.581320 -0.348051 -0.748212  ... -0.000167 -0.000153  0.000541\n",
              "1  -0.659691  2.406933 -0.693062  ... -0.000781  0.001319  0.000003\n",
              "2  14.219191 -0.739695 -0.679700  ... -0.014463  0.086478  0.095324\n",
              "3  -0.554499 -0.338243 -0.747897  ... -0.000187 -0.000380  0.000147\n",
              "4  -0.013932 -0.247531 -0.743671  ...  0.003031  0.000595  0.000770\n",
              "\n",
              "[5 rows x 11 columns]"
            ]
          },
          "metadata": {
            "tags": []
          },
          "execution_count": 112
        }
      ]
    },
    {
      "cell_type": "code",
      "metadata": {
        "colab_type": "code",
        "id": "TiWj3MPnbc1C",
        "colab": {
          "base_uri": "https://localhost:8080/",
          "height": 34
        },
        "outputId": "b4915054-be9b-4524-83cc-7edfe53b243f"
      },
      "source": [
        "#fitting the regressin model using the 11 component data\n",
        "#from sklearn.model_selection import train_test_split\n",
        "\n",
        "X_train,X_test,y_train,y_test=get_data(pdf11)\n",
        "\n",
        "rr = linear_model.Ridge(alpha=0.1) # higher the alpha value, more restriction in the coefficients; low alpha > more generalization, coefficients are barely\n",
        "# restricted and in this case linear and ridge regression resembles\n",
        "rr.fit(X_train, y_train)\n",
        "pr=rr.predict(X_test) \n",
        "acc=0\n",
        "loss=[]\n",
        "for i in range(len(pr)):\n",
        "  if(sqrt((y_test[i]-pr[i])**2)<15):\n",
        "    acc+=1\n",
        "    loss.append(y_test[i]-pr[i])\n",
        "print('Accuracy = ',(acc/(len(y_test)))*100)\n",
        "accuracy.append(acc/(len(y_test)))"
      ],
      "execution_count": null,
      "outputs": [
        {
          "output_type": "stream",
          "text": [
            "Accuracy =  97.54452154598656\n"
          ],
          "name": "stdout"
        }
      ]
    },
    {
      "cell_type": "code",
      "metadata": {
        "id": "4E4bYXClFPo9",
        "colab_type": "code",
        "colab": {
          "base_uri": "https://localhost:8080/",
          "height": 409
        },
        "outputId": "4ba21ed0-0bd1-449d-96e3-f822882407ca"
      },
      "source": [
        "#plt.scatter(y_test, pr)\n",
        "from pylab import rcParams\n",
        "rcParams['figure.figsize'] = 10,6\n",
        "\n",
        "accu=[i*100 for i in accuracy]\n",
        "plt.plot(pdf,accu, c='red')\n",
        "plt.scatter(pdf,accu, c='blue')\n",
        "plt.xlabel('No of Eigenvectors taken for training')\n",
        "plt.ylabel('Accuracy')\n",
        "axes = plt.gca()\n",
        "axes.set_xlim([0,12])\n",
        "axes.set_ylim([0,100])\n"
      ],
      "execution_count": null,
      "outputs": [
        {
          "output_type": "execute_result",
          "data": {
            "text/plain": [
              "(0.0, 100.0)"
            ]
          },
          "metadata": {
            "tags": []
          },
          "execution_count": 114
        },
        {
          "output_type": "display_data",
          "data": {
            "image/png": "[encoded data removed]",
            "text/plain": [
              "<Figure size 720x432 with 1 Axes>"
            ]
          },
          "metadata": {
            "tags": [],
            "needs_background": "light"
          }
        }
      ]
    },
    {
      "cell_type": "code",
      "metadata": {
        "id": "pqauqCBrxc3a",
        "colab_type": "code",
        "colab": {}
      },
      "source": [
        "def PCA():\n",
        "  #identifying covariance matrix\n",
        "  cov_mat = np.cov([all_samples[0,:],all_samples[1,:],all_samples[2,:]])\n",
        "  eig_val_sc, eig_vec_sc = np.linalg.eig(scatter_matrix)\n",
        "\n",
        "  # eigenvectors and eigenvalues for the from the covariance matrix\n",
        "  eig_val_cov, eig_vec_cov = np.linalg.eig(cov_mat)\n",
        "\n",
        "  for i in range(len(eig_val_sc)):\n",
        "      eigvec_sc = eig_vec_sc[:,i].reshape(1,3).T\n",
        "      eigvec_cov = eig_vec_cov[:,i].reshape(1,3).T\n",
        "\n",
        "  eig_pairs = [(np.abs(eigvec_sc[i]), eigvec_cov[:,i]) for i in range(len(eigvec_cov))]\n",
        "  eig_pairs.sort(reverse = True)\n",
        "  #print the descending sorted eigen values for variance difference determination\n",
        "  print('Eigenvalues:')\n",
        "  for i in eig_pairs:\n",
        "      print(i[0])\n",
        "      "
      ],
      "execution_count": null,
      "outputs": []
    },
    {
      "cell_type": "code",
      "metadata": {
        "id": "4tp7O0SfzH8v",
        "colab_type": "code",
        "colab": {}
      },
      "source": [
        "def RegressionModel(components):\n",
        "  #get the test and train set for specified components\n",
        "  X_train,X_test,y_train,y_test=get_data(components)\n",
        "  rr = linear_model.Ridge(alpha=0.1) \n",
        "  #fit the model\n",
        "  rr.fit(X_train, y_train)\n",
        "  #test on test set\n",
        "  pr=rr.predict(X_test) \n",
        "  #calculate and report accuracy\n",
        "  acc=0\n",
        "  loss=[]\n",
        "  for i in range(len(pr)):\n",
        "    if(sqrt((y_test[i]-pr[i])**2)<15):\n",
        "      acc+=1\n",
        "      loss.append(y_test[i]-pr[i])\n",
        "  print('Accuracy = ',(acc/(len(y_test)))*100)\n",
        "  accuracy.append(acc/(len(y_test)))"
      ],
      "execution_count": null,
      "outputs": []
    }
  ]
}